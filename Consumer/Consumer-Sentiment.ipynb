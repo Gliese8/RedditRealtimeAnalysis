{
 "cells": [
  {
   "cell_type": "code",
   "execution_count": 2,
   "metadata": {},
   "outputs": [
    {
     "name": "stdout",
     "output_type": "stream",
     "text": [
      "\u001b[33mDEPRECATION: Loading egg at /opt/bitnami/python/lib/python3.11/site-packages/pip-23.3.2-py3.11.egg is deprecated. pip 24.3 will enforce this behaviour change. A possible replacement is to use pip for package installation.. Discussion can be found at https://github.com/pypa/pip/issues/12330\u001b[0m\u001b[33m\n",
      "\u001b[0mCollecting nltk\n",
      "  Downloading nltk-3.8.1-py3-none-any.whl.metadata (2.8 kB)\n",
      "Collecting click (from nltk)\n",
      "  Downloading click-8.1.7-py3-none-any.whl.metadata (3.0 kB)\n",
      "Collecting joblib (from nltk)\n",
      "  Downloading joblib-1.4.2-py3-none-any.whl.metadata (5.4 kB)\n",
      "Collecting regex>=2021.8.3 (from nltk)\n",
      "  Downloading regex-2024.5.15-cp311-cp311-manylinux_2_17_x86_64.manylinux2014_x86_64.whl.metadata (40 kB)\n",
      "\u001b[2K     \u001b[90m━━━━━━━━━━━━━━━━━━━━━━━━━━━━━━━━━━━━━━━━\u001b[0m \u001b[32m40.9/40.9 kB\u001b[0m \u001b[31m4.5 MB/s\u001b[0m eta \u001b[36m0:00:00\u001b[0m\n",
      "\u001b[?25hCollecting tqdm (from nltk)\n",
      "  Downloading tqdm-4.66.4-py3-none-any.whl.metadata (57 kB)\n",
      "\u001b[2K     \u001b[90m━━━━━━━━━━━━━━━━━━━━━━━━━━━━━━━━━━━━━━━━\u001b[0m \u001b[32m57.6/57.6 kB\u001b[0m \u001b[31m2.5 MB/s\u001b[0m eta \u001b[36m0:00:00\u001b[0m\n",
      "\u001b[?25hDownloading nltk-3.8.1-py3-none-any.whl (1.5 MB)\n",
      "\u001b[2K   \u001b[90m━━━━━━━━━━━━━━━━━━━━━━━━━━━━━━━━━━━━━━━━\u001b[0m \u001b[32m1.5/1.5 MB\u001b[0m \u001b[31m15.1 MB/s\u001b[0m eta \u001b[36m0:00:00\u001b[0ma \u001b[36m0:00:01\u001b[0m\n",
      "\u001b[?25hDownloading regex-2024.5.15-cp311-cp311-manylinux_2_17_x86_64.manylinux2014_x86_64.whl (785 kB)\n",
      "\u001b[2K   \u001b[90m━━━━━━━━━━━━━━━━━━━━━━━━━━━━━━━━━━━━━━━━\u001b[0m \u001b[32m785.0/785.0 kB\u001b[0m \u001b[31m28.9 MB/s\u001b[0m eta \u001b[36m0:00:00\u001b[0m\n",
      "\u001b[?25hDownloading click-8.1.7-py3-none-any.whl (97 kB)\n",
      "\u001b[2K   \u001b[90m━━━━━━━━━━━━━━━━━━━━━━━━━━━━━━━━━━━━━━━━\u001b[0m \u001b[32m97.9/97.9 kB\u001b[0m \u001b[31m17.2 MB/s\u001b[0m eta \u001b[36m0:00:00\u001b[0m\n",
      "\u001b[?25hDownloading joblib-1.4.2-py3-none-any.whl (301 kB)\n",
      "\u001b[2K   \u001b[90m━━━━━━━━━━━━━━━━━━━━━━━━━━━━━━━━━━━━━━━━\u001b[0m \u001b[32m301.8/301.8 kB\u001b[0m \u001b[31m22.4 MB/s\u001b[0m eta \u001b[36m0:00:00\u001b[0m\n",
      "\u001b[?25hDownloading tqdm-4.66.4-py3-none-any.whl (78 kB)\n",
      "\u001b[2K   \u001b[90m━━━━━━━━━━━━━━━━━━━━━━━━━━━━━━━━━━━━━━━━\u001b[0m \u001b[32m78.3/78.3 kB\u001b[0m \u001b[31m12.7 MB/s\u001b[0m eta \u001b[36m0:00:00\u001b[0m\n",
      "\u001b[?25hInstalling collected packages: tqdm, regex, joblib, click, nltk\n",
      "Successfully installed click-8.1.7 joblib-1.4.2 nltk-3.8.1 regex-2024.5.15 tqdm-4.66.4\n",
      "\u001b[33mWARNING: Running pip as the 'root' user can result in broken permissions and conflicting behaviour with the system package manager. It is recommended to use a virtual environment instead: https://pip.pypa.io/warnings/venv\u001b[0m\u001b[33m\n",
      "\u001b[0m"
     ]
    }
   ],
   "source": [
    "!pip install nltk"
   ]
  },
  {
   "cell_type": "code",
   "execution_count": 3,
   "metadata": {},
   "outputs": [
    {
     "name": "stderr",
     "output_type": "stream",
     "text": [
      "[nltk_data] Downloading package vader_lexicon to /nltk_data...\n",
      "[nltk_data] Downloading package stopwords to /nltk_data...\n",
      "[nltk_data]   Unzipping corpora/stopwords.zip.\n"
     ]
    },
    {
     "data": {
      "text/plain": [
       "True"
      ]
     },
     "execution_count": 3,
     "metadata": {},
     "output_type": "execute_result"
    }
   ],
   "source": [
    "import nltk\n",
    "\n",
    "# Initialize NLTK's Vader and download stopwords\n",
    "nltk.download('vader_lexicon')\n",
    "nltk.download('stopwords')"
   ]
  },
  {
   "cell_type": "code",
   "execution_count": null,
   "metadata": {},
   "outputs": [],
   "source": [
    "# references = df.select(\n",
    "#                 explode(split(col(\"filtered_title\"), \" \")).alias(\"word\")\n",
    "#             ).filter(\n",
    "#                 (col(\"word\").like(\"/u/%\")) |\n",
    "#                 (col(\"word\").like(\"/r/%\")) |\n",
    "#                 (col(\"word\").like(\"http%\"))\n",
    "#             )\n",
    "#             print(\"-----------------------------\")\n",
    "#             print(references.collect())\n",
    "#             print(\"-----------------------------\")\n",
    "#             # User references\n",
    "#             user_refs = references.filter(col(\"word\").like(\"/u/%\")).groupBy(\"word\").count().withColumnRenamed(\"count\", \"user_references_count\")\n",
    "#             user_refs.createOrReplaceTempView(\"user_references\")\n",
    "#             user_refs.write.json(\"/data/output/user_references\", mode=\"append\")\n",
    "#             print(\"User references table created and saved.\")\n",
    "\n",
    "#             # Post references\n",
    "#             post_refs = references.filter(col(\"word\").like(\"/r/%\")).groupBy(\"word\").count().withColumnRenamed(\"count\", \"post_references_count\")\n",
    "#             post_refs.createOrReplaceTempView(\"post_references\")\n",
    "#             post_refs.write.json(\"/data/output/post_references\", mode=\"append\")\n",
    "#             print(\"Post references table created and saved.\")\n",
    "            \n",
    "#             # URL references\n",
    "#             url_refs = references.filter(col(\"word\").like(\"http%\")).groupBy(\"word\").count().withColumnRenamed(\"count\", \"url_references_count\")\n",
    "#             url_refs.createOrReplaceTempView(\"url_references\")\n",
    "#             url_refs.write.json(\"/data/output/url_references\", mode=\"append\")\n",
    "#             print(\"URL references table created and saved.\")"
   ]
  },
  {
   "cell_type": "code",
   "execution_count": null,
   "metadata": {},
   "outputs": [
    {
     "name": "stderr",
     "output_type": "stream",
     "text": [
      "Setting default log level to \"WARN\".\n",
      "To adjust logging level use sc.setLogLevel(newLevel). For SparkR, use setLogLevel(newLevel).\n",
      "24/06/09 23:29:07 WARN NativeCodeLoader: Unable to load native-hadoop library for your platform... using builtin-java classes where applicable\n",
      "/opt/bitnami/spark/python/pyspark/streaming/context.py:72: FutureWarning: DStream is deprecated as of Spark 3.4.0. Migrate to Structured Streaming.\n",
      "  warnings.warn(\n"
     ]
    },
    {
     "name": "stdout",
     "output_type": "stream",
     "text": [
      "Streaming started...\n"
     ]
    },
    {
     "name": "stderr",
     "output_type": "stream",
     "text": [
      "24/06/09 23:29:10 ERROR ReceiverTracker: Deregistered receiver for stream 0: Restarting receiver with delay 2000ms: Socket data stream had no more data\n",
      "24/06/09 23:29:13 ERROR ReceiverTracker: Deregistered receiver for stream 0: Restarting receiver with delay 2000ms: Socket data stream had no more data\n",
      "24/06/09 23:29:16 ERROR ReceiverTracker: Deregistered receiver for stream 0: Restarting receiver with delay 2000ms: Socket data stream had no more data\n",
      "24/06/09 23:29:19 ERROR ReceiverTracker: Deregistered receiver for stream 0: Restarting receiver with delay 2000ms: Socket data stream had no more data\n",
      "24/06/09 23:29:22 ERROR ReceiverTracker: Deregistered receiver for stream 0: Restarting receiver with delay 2000ms: Socket data stream had no more data\n",
      "24/06/09 23:29:25 ERROR ReceiverTracker: Deregistered receiver for stream 0: Restarting receiver with delay 2000ms: Socket data stream had no more data\n",
      "24/06/09 23:29:28 ERROR ReceiverTracker: Deregistered receiver for stream 0: Restarting receiver with delay 2000ms: Socket data stream had no more data\n",
      "24/06/09 23:29:30 ERROR ReceiverTracker: Deregistered receiver for stream 0: Restarting receiver with delay 2000ms: Socket data stream had no more data\n",
      "24/06/09 23:29:33 ERROR ReceiverTracker: Deregistered receiver for stream 0: Restarting receiver with delay 2000ms: Socket data stream had no more data\n",
      "24/06/09 23:29:36 ERROR ReceiverTracker: Deregistered receiver for stream 0: Restarting receiver with delay 2000ms: Socket data stream had no more data\n",
      "24/06/09 23:29:39 ERROR ReceiverTracker: Deregistered receiver for stream 0: Restarting receiver with delay 2000ms: Socket data stream had no more data\n",
      "24/06/09 23:29:42 ERROR ReceiverTracker: Deregistered receiver for stream 0: Restarting receiver with delay 2000ms: Socket data stream had no more data\n",
      "24/06/09 23:29:44 ERROR ReceiverTracker: Deregistered receiver for stream 0: Restarting receiver with delay 2000ms: Socket data stream had no more data\n",
      "24/06/09 23:29:47 ERROR ReceiverTracker: Deregistered receiver for stream 0: Restarting receiver with delay 2000ms: Socket data stream had no more data\n",
      "24/06/09 23:29:50 ERROR ReceiverTracker: Deregistered receiver for stream 0: Restarting receiver with delay 2000ms: Socket data stream had no more data\n",
      "24/06/09 23:29:53 ERROR ReceiverTracker: Deregistered receiver for stream 0: Restarting receiver with delay 2000ms: Socket data stream had no more data\n",
      "24/06/09 23:29:56 ERROR ReceiverTracker: Deregistered receiver for stream 0: Restarting receiver with delay 2000ms: Socket data stream had no more data\n",
      "24/06/09 23:29:59 ERROR ReceiverTracker: Deregistered receiver for stream 0: Restarting receiver with delay 2000ms: Socket data stream had no more data\n"
     ]
    },
    {
     "name": "stdout",
     "output_type": "stream",
     "text": [
      "Processing RDD...\n"
     ]
    },
    {
     "name": "stderr",
     "output_type": "stream",
     "text": [
      "24/06/09 23:30:01 ERROR ReceiverTracker: Deregistered receiver for stream 0: Restarting receiver with delay 2000ms: Socket data stream had no more data\n",
      "24/06/09 23:30:04 ERROR ReceiverTracker: Deregistered receiver for stream 0: Restarting receiver with delay 2000ms: Socket data stream had no more data\n",
      "[Stage 0:>                                                          (0 + 1) / 1]\r"
     ]
    },
    {
     "name": "stdout",
     "output_type": "stream",
     "text": [
      "+--------------------+-------------------+-------------+-----------------------------------------------------------------------------------------------------------------+---------------------------------------------------------------------------+--------+---------+\n",
      "|author              |date               |subreddit    |title                                                                                                            |filtered_title                                                             |polarity|sentiment|\n",
      "+--------------------+-------------------+-------------+-----------------------------------------------------------------------------------------------------------------+---------------------------------------------------------------------------+--------+---------+\n",
      "|DimensionPitiful7120|2024-06-09 22:58:15|AskReddit    |What's a book, movie, or TV show that completely changed your perspective on life?                               |What's book, movie, TV show completely changed perspective life?           |0.0     |neutral  |\n",
      "|DimensionPitiful7120|2024-06-09 22:57:55|AskReddit    |What's the most interesting cultural tradition or festival you've ever participated in or witnessed?             |What's interesting cultural tradition festival ever participated witnessed?|0.7096  |positive |\n",
      "|Lower_Lab_7414      |2024-06-09 22:57:48|AskMen       |Whats the worst thing a woman said to you?                                                                       |Whats worst thing woman said you?                                          |-0.6249 |negative |\n",
      "|Ultrasaurio         |2024-06-09 22:58:04|askphilosophy|Can you explain this to me?                                                                                      |explain me?                                                                |0.0     |neutral  |\n",
      "|TheCleanestKitchen  |2024-06-09 22:58:49|AskReddit    |What’s the situation you’ve been in where you were the most scared?                                              |What’s situation you’ve scared?                                            |-0.4404 |negative |\n",
      "|becauseofrandomness |2024-06-09 22:59:23|AskReddit    |You are entering a fight against a clone of yourself, your weapon will be the last thing you ate, how does it go?|entering fight clone yourself, weapon last thing ate, go?                  |-0.5859 |negative |\n",
      "|Pristine_Exit2185   |2024-06-09 22:58:43|AskReddit    |What are some good subreddit for stories to read?                                                                |good subreddit stories read?                                               |0.4404  |positive |\n",
      "|blandsiding         |2024-06-09 22:58:28|AskReddit    |What do you do when your family doesn't act like family?                                                         |family act like family?                                                    |0.3612  |positive |\n",
      "|DimensionPitiful7120|2024-06-09 22:58:38|AskReddit    |If you could have dinner with any three people, dead or alive, who would they be and why?                        |could dinner three people, dead alive, would why?                          |-0.4019 |negative |\n",
      "+--------------------+-------------------+-------------+-----------------------------------------------------------------------------------------------------------------+---------------------------------------------------------------------------+--------+---------+\n",
      "\n",
      "Word count for window\n"
     ]
    },
    {
     "name": "stderr",
     "output_type": "stream",
     "text": [
      "24/06/09 23:30:07 ERROR ReceiverTracker: Deregistered receiver for stream 0: Restarting receiver with delay 2000ms: Socket data stream had no more data\n",
      "                                                                                \r"
     ]
    },
    {
     "name": "stdout",
     "output_type": "stream",
     "text": [
      "+-----------+-----+\n",
      "|       word|count|\n",
      "+-----------+-----+\n",
      "|    explain|    1|\n",
      "|perspective|    1|\n",
      "|     movie,|    1|\n",
      "|        act|    1|\n",
      "|      could|    1|\n",
      "|       why?|    1|\n",
      "|       show|    1|\n",
      "|  situation|    1|\n",
      "| witnessed?|    1|\n",
      "|   cultural|    1|\n",
      "+-----------+-----+\n",
      "only showing top 10 rows\n",
      "\n"
     ]
    },
    {
     "name": "stderr",
     "output_type": "stream",
     "text": [
      "24/06/09 23:30:10 ERROR ReceiverTracker: Deregistered receiver for stream 0: Restarting receiver with delay 2000ms: Socket data stream had no more data\n",
      "24/06/09 23:30:13 ERROR ReceiverTracker: Deregistered receiver for stream 0: Restarting receiver with delay 2000ms: Socket data stream had no more data\n",
      "24/06/09 23:30:16 ERROR ReceiverTracker: Deregistered receiver for stream 0: Restarting receiver with delay 2000ms: Socket data stream had no more data\n",
      "24/06/09 23:30:18 ERROR ReceiverTracker: Deregistered receiver for stream 0: Restarting receiver with delay 2000ms: Socket data stream had no more data\n",
      "24/06/09 23:30:21 ERROR ReceiverTracker: Deregistered receiver for stream 0: Restarting receiver with delay 2000ms: Socket data stream had no more data\n",
      "24/06/09 23:30:24 ERROR ReceiverTracker: Deregistered receiver for stream 0: Restarting receiver with delay 2000ms: Socket data stream had no more data\n",
      "24/06/09 23:30:27 ERROR ReceiverTracker: Deregistered receiver for stream 0: Restarting receiver with delay 2000ms: Socket data stream had no more data\n",
      "24/06/09 23:30:30 ERROR ReceiverTracker: Deregistered receiver for stream 0: Restarting receiver with delay 2000ms: Socket data stream had no more data\n",
      "24/06/09 23:30:32 ERROR ReceiverTracker: Deregistered receiver for stream 0: Restarting receiver with delay 2000ms: Socket data stream had no more data\n",
      "24/06/09 23:30:39 ERROR ReceiverTracker: Deregistered receiver for stream 0: Restarting receiver with delay 2000ms: Socket data stream had no more data\n",
      "24/06/09 23:30:42 ERROR ReceiverTracker: Deregistered receiver for stream 0: Restarting receiver with delay 2000ms: Socket data stream had no more data\n",
      "24/06/09 23:30:44 ERROR ReceiverTracker: Deregistered receiver for stream 0: Restarting receiver with delay 2000ms: Socket data stream had no more data\n",
      "24/06/09 23:30:47 ERROR ReceiverTracker: Deregistered receiver for stream 0: Restarting receiver with delay 2000ms: Socket data stream had no more data\n",
      "24/06/09 23:30:50 ERROR ReceiverTracker: Deregistered receiver for stream 0: Restarting receiver with delay 2000ms: Socket data stream had no more data\n",
      "24/06/09 23:30:53 ERROR ReceiverTracker: Deregistered receiver for stream 0: Restarting receiver with delay 2000ms: Socket data stream had no more data\n",
      "24/06/09 23:30:55 ERROR ReceiverTracker: Deregistered receiver for stream 0: Restarting receiver with delay 2000ms: Socket data stream had no more data\n",
      "24/06/09 23:30:58 ERROR ReceiverTracker: Deregistered receiver for stream 0: Restarting receiver with delay 2000ms: Socket data stream had no more data\n"
     ]
    },
    {
     "name": "stdout",
     "output_type": "stream",
     "text": [
      "Processing RDD...\n"
     ]
    },
    {
     "name": "stderr",
     "output_type": "stream",
     "text": [
      "24/06/09 23:31:01 ERROR ReceiverTracker: Deregistered receiver for stream 0: Restarting receiver with delay 2000ms: Socket data stream had no more data\n",
      "                                                                                \r"
     ]
    },
    {
     "name": "stdout",
     "output_type": "stream",
     "text": [
      "+-------------------+-------------------+---------+-----------------------------------------------------------------------------------------------------------------+---------------------------------------------------------+--------+---------+\n",
      "|author             |date               |subreddit|title                                                                                                            |filtered_title                                           |polarity|sentiment|\n",
      "+-------------------+-------------------+---------+-----------------------------------------------------------------------------------------------------------------+---------------------------------------------------------+--------+---------+\n",
      "|becauseofrandomness|2024-06-09 22:59:23|AskReddit|You are entering a fight against a clone of yourself, your weapon will be the last thing you ate, how does it go?|entering fight clone yourself, weapon last thing ate, go?|-0.5859 |negative |\n",
      "|Die-Tryin          |2024-06-09 23:00:10|ask      |Who will win the euros ?                                                                                         |win euros ?                                              |0.5859  |positive |\n",
      "+-------------------+-------------------+---------+-----------------------------------------------------------------------------------------------------------------+---------------------------------------------------------+--------+---------+\n",
      "\n",
      "Word count for window\n"
     ]
    },
    {
     "name": "stderr",
     "output_type": "stream",
     "text": [
      "                                                                                \r"
     ]
    },
    {
     "name": "stdout",
     "output_type": "stream",
     "text": [
      "+---------+-----+\n",
      "|     word|count|\n",
      "+---------+-----+\n",
      "|    euros|    1|\n",
      "| entering|    1|\n",
      "|    thing|    1|\n",
      "|    clone|    1|\n",
      "|      win|    1|\n",
      "|    fight|    1|\n",
      "|     ate,|    1|\n",
      "|   weapon|    1|\n",
      "|yourself,|    1|\n",
      "|      go?|    1|\n",
      "+---------+-----+\n",
      "only showing top 10 rows\n",
      "\n"
     ]
    },
    {
     "name": "stderr",
     "output_type": "stream",
     "text": [
      "24/06/09 23:31:04 ERROR ReceiverTracker: Deregistered receiver for stream 0: Restarting receiver with delay 2000ms: Socket data stream had no more data\n",
      "24/06/09 23:31:07 ERROR ReceiverTracker: Deregistered receiver for stream 0: Restarting receiver with delay 2000ms: Socket data stream had no more data\n",
      "24/06/09 23:31:10 ERROR ReceiverTracker: Deregistered receiver for stream 0: Restarting receiver with delay 2000ms: Socket data stream had no more data\n",
      "24/06/09 23:31:13 ERROR ReceiverTracker: Deregistered receiver for stream 0: Restarting receiver with delay 2000ms: Socket data stream had no more data\n",
      "24/06/09 23:31:16 ERROR ReceiverTracker: Deregistered receiver for stream 0: Restarting receiver with delay 2000ms: Socket data stream had no more data\n",
      "24/06/09 23:31:19 ERROR ReceiverTracker: Deregistered receiver for stream 0: Restarting receiver with delay 2000ms: Socket data stream had no more data\n",
      "24/06/09 23:31:22 ERROR ReceiverTracker: Deregistered receiver for stream 0: Restarting receiver with delay 2000ms: Socket data stream had no more data\n",
      "24/06/09 23:31:25 ERROR ReceiverTracker: Deregistered receiver for stream 0: Restarting receiver with delay 2000ms: Socket data stream had no more data\n",
      "24/06/09 23:31:27 ERROR ReceiverTracker: Deregistered receiver for stream 0: Restarting receiver with delay 2000ms: Socket data stream had no more data\n",
      "24/06/09 23:31:30 ERROR ReceiverTracker: Deregistered receiver for stream 0: Restarting receiver with delay 2000ms: Socket data stream had no more data\n",
      "24/06/09 23:31:33 ERROR ReceiverTracker: Deregistered receiver for stream 0: Restarting receiver with delay 2000ms: Socket data stream had no more data\n",
      "24/06/09 23:31:36 ERROR ReceiverTracker: Deregistered receiver for stream 0: Restarting receiver with delay 2000ms: Socket data stream had no more data\n",
      "24/06/09 23:31:39 ERROR ReceiverTracker: Deregistered receiver for stream 0: Restarting receiver with delay 2000ms: Socket data stream had no more data\n",
      "24/06/09 23:31:41 ERROR ReceiverTracker: Deregistered receiver for stream 0: Restarting receiver with delay 2000ms: Socket data stream had no more data\n",
      "24/06/09 23:31:44 ERROR ReceiverTracker: Deregistered receiver for stream 0: Restarting receiver with delay 2000ms: Socket data stream had no more data\n",
      "24/06/09 23:31:47 ERROR ReceiverTracker: Deregistered receiver for stream 0: Restarting receiver with delay 2000ms: Socket data stream had no more data\n",
      "24/06/09 23:31:50 ERROR ReceiverTracker: Deregistered receiver for stream 0: Restarting receiver with delay 2000ms: Socket data stream had no more data\n",
      "24/06/09 23:31:53 ERROR ReceiverTracker: Deregistered receiver for stream 0: Restarting receiver with delay 2000ms: Socket data stream had no more data\n",
      "24/06/09 23:31:55 ERROR ReceiverTracker: Deregistered receiver for stream 0: Restarting receiver with delay 2000ms: Socket data stream had no more data\n",
      "24/06/09 23:31:58 ERROR ReceiverTracker: Deregistered receiver for stream 0: Restarting receiver with delay 2000ms: Socket data stream had no more data\n"
     ]
    },
    {
     "name": "stdout",
     "output_type": "stream",
     "text": [
      "Processing RDD...\n"
     ]
    },
    {
     "name": "stderr",
     "output_type": "stream",
     "text": [
      "24/06/09 23:32:01 ERROR ReceiverTracker: Deregistered receiver for stream 0: Restarting receiver with delay 2000ms: Socket data stream had no more data\n",
      "                                                                                \r"
     ]
    },
    {
     "name": "stdout",
     "output_type": "stream",
     "text": [
      "+-----------------+-------------------+-------------+----------------------------------------------------------------------------------------------------------+------------------------------------------------------------+--------+---------+\n",
      "|author           |date               |subreddit    |title                                                                                                     |filtered_title                                              |polarity|sentiment|\n",
      "+-----------------+-------------------+-------------+----------------------------------------------------------------------------------------------------------+------------------------------------------------------------+--------+---------+\n",
      "|ThrowRA_dependent|2024-06-09 23:01:16|AskReddit    |How did you get through your midlife crisis?                                                              |get midlife crisis?                                         |-0.6249 |negative |\n",
      "|frickchamber1    |2024-06-09 23:02:10|AskReddit    |How did you feel, when your friend blocked you and cut you off their life?                                |feel, friend blocked cut life?                              |0.0     |neutral  |\n",
      "|ProudMazdakite   |2024-06-09 23:02:10|AskHistorians|Did the Mazdakites view women as property?                                                                |Mazdakites view women property?                             |0.0     |neutral  |\n",
      "|Sythic_          |2024-06-09 23:01:46|AskReddit    |What is a product or service you would love to use but the only options are from corporations you despise?|product service would love use options corporations despise?|0.4215  |positive |\n",
      "|Flashy_Vast      |2024-06-09 23:01:57|AskReddit    |What is your \"don't get me started on that\" topic?                                                        |\"don't get started that\" topic?                             |0.0     |neutral  |\n",
      "|NoStaff6079      |2024-06-09 23:02:12|AskMen       |How do I get someone to sleep with me?                                                                    |get someone sleep me?                                       |0.0     |neutral  |\n",
      "+-----------------+-------------------+-------------+----------------------------------------------------------------------------------------------------------+------------------------------------------------------------+--------+---------+\n",
      "\n",
      "Word count for window\n"
     ]
    },
    {
     "name": "stderr",
     "output_type": "stream",
     "text": [
      "                                                                                \r"
     ]
    },
    {
     "name": "stdout",
     "output_type": "stream",
     "text": [
      "+------------+-----+\n",
      "|        word|count|\n",
      "+------------+-----+\n",
      "|corporations|    1|\n",
      "|  mazdakites|    1|\n",
      "|    despise?|    1|\n",
      "|       that\"|    1|\n",
      "|      friend|    1|\n",
      "|        love|    1|\n",
      "|   property?|    1|\n",
      "|     options|    1|\n",
      "|         me?|    1|\n",
      "|         use|    1|\n",
      "+------------+-----+\n",
      "only showing top 10 rows\n",
      "\n"
     ]
    },
    {
     "name": "stderr",
     "output_type": "stream",
     "text": [
      "24/06/09 23:32:04 ERROR ReceiverTracker: Deregistered receiver for stream 0: Restarting receiver with delay 2000ms: Socket data stream had no more data\n",
      "24/06/09 23:32:07 ERROR ReceiverTracker: Deregistered receiver for stream 0: Restarting receiver with delay 2000ms: Socket data stream had no more data\n",
      "24/06/09 23:32:10 ERROR ReceiverTracker: Deregistered receiver for stream 0: Restarting receiver with delay 2000ms: Socket data stream had no more data\n",
      "24/06/09 23:32:12 ERROR ReceiverTracker: Deregistered receiver for stream 0: Restarting receiver with delay 2000ms: Socket data stream had no more data\n",
      "24/06/09 23:32:15 ERROR ReceiverTracker: Deregistered receiver for stream 0: Restarting receiver with delay 2000ms: Socket data stream had no more data\n",
      "24/06/09 23:32:18 ERROR ReceiverTracker: Deregistered receiver for stream 0: Restarting receiver with delay 2000ms: Socket data stream had no more data\n",
      "24/06/09 23:32:21 ERROR ReceiverTracker: Deregistered receiver for stream 0: Restarting receiver with delay 2000ms: Socket data stream had no more data\n",
      "24/06/09 23:32:24 ERROR ReceiverTracker: Deregistered receiver for stream 0: Restarting receiver with delay 2000ms: Socket data stream had no more data\n",
      "24/06/09 23:32:27 ERROR ReceiverTracker: Deregistered receiver for stream 0: Restarting receiver with delay 2000ms: Socket data stream had no more data\n",
      "24/06/09 23:32:30 ERROR ReceiverTracker: Deregistered receiver for stream 0: Restarting receiver with delay 2000ms: Socket data stream had no more data\n",
      "24/06/09 23:32:33 ERROR ReceiverTracker: Deregistered receiver for stream 0: Restarting receiver with delay 2000ms: Socket data stream had no more data\n",
      "24/06/09 23:32:36 ERROR ReceiverTracker: Deregistered receiver for stream 0: Restarting receiver with delay 2000ms: Socket data stream had no more data\n",
      "24/06/09 23:32:39 ERROR ReceiverTracker: Deregistered receiver for stream 0: Restarting receiver with delay 2000ms: Socket data stream had no more data\n",
      "24/06/09 23:32:42 ERROR ReceiverTracker: Deregistered receiver for stream 0: Restarting receiver with delay 2000ms: Socket data stream had no more data\n",
      "24/06/09 23:32:45 ERROR ReceiverTracker: Deregistered receiver for stream 0: Restarting receiver with delay 2000ms: Socket data stream had no more data\n",
      "24/06/09 23:32:47 ERROR ReceiverTracker: Deregistered receiver for stream 0: Restarting receiver with delay 2000ms: Socket data stream had no more data\n",
      "24/06/09 23:32:50 ERROR ReceiverTracker: Deregistered receiver for stream 0: Restarting receiver with delay 2000ms: Socket data stream had no more data\n",
      "24/06/09 23:32:53 ERROR ReceiverTracker: Deregistered receiver for stream 0: Restarting receiver with delay 2000ms: Socket data stream had no more data\n",
      "24/06/09 23:32:56 ERROR ReceiverTracker: Deregistered receiver for stream 0: Restarting receiver with delay 2000ms: Socket data stream had no more data\n",
      "24/06/09 23:32:59 ERROR ReceiverTracker: Deregistered receiver for stream 0: Restarting receiver with delay 2000ms: Socket data stream had no more data\n"
     ]
    },
    {
     "name": "stdout",
     "output_type": "stream",
     "text": [
      "Processing RDD...\n"
     ]
    },
    {
     "name": "stderr",
     "output_type": "stream",
     "text": [
      "24/06/09 23:33:02 ERROR ReceiverTracker: Deregistered receiver for stream 0: Restarting receiver with delay 2000ms: Socket data stream had no more data\n"
     ]
    },
    {
     "name": "stdout",
     "output_type": "stream",
     "text": [
      "+-------------------+-------------------+-------------+----------------------------------------------------------------------------------+----------------------------------------------------+--------+---------+\n",
      "|author             |date               |subreddit    |title                                                                             |filtered_title                                      |polarity|sentiment|\n",
      "+-------------------+-------------------+-------------+----------------------------------------------------------------------------------+----------------------------------------------------+--------+---------+\n",
      "|Infinite_Profit2253|2024-06-09 23:02:34|AskReddit    |where did that whole every year for a human is 7 years for a dog thing come from??|whole every year human 7 years dog thing come from??|0.0     |neutral  |\n",
      "|ProudMazdakite     |2024-06-09 23:02:10|AskHistorians|Did the Mazdakites view women as property?                                        |Mazdakites view women property?                     |0.0     |neutral  |\n",
      "|NoStaff6079        |2024-06-09 23:02:12|AskMen       |How do I get someone to sleep with me?                                            |get someone sleep me?                               |0.0     |neutral  |\n",
      "+-------------------+-------------------+-------------+----------------------------------------------------------------------------------+----------------------------------------------------+--------+---------+\n",
      "\n",
      "Word count for window\n",
      "+----------+-----+\n",
      "|      word|count|\n",
      "+----------+-----+\n",
      "|         7|    1|\n",
      "|mazdakites|    1|\n",
      "|    from??|    1|\n",
      "|       dog|    1|\n",
      "| property?|    1|\n",
      "|     human|    1|\n",
      "|       me?|    1|\n",
      "|     years|    1|\n",
      "|     thing|    1|\n",
      "|      view|    1|\n",
      "+----------+-----+\n",
      "only showing top 10 rows\n",
      "\n"
     ]
    },
    {
     "name": "stderr",
     "output_type": "stream",
     "text": [
      "24/06/09 23:33:04 ERROR ReceiverTracker: Deregistered receiver for stream 0: Restarting receiver with delay 2000ms: Socket data stream had no more data\n",
      "24/06/09 23:33:07 ERROR ReceiverTracker: Deregistered receiver for stream 0: Restarting receiver with delay 2000ms: Socket data stream had no more data\n",
      "24/06/09 23:33:10 ERROR ReceiverTracker: Deregistered receiver for stream 0: Restarting receiver with delay 2000ms: Socket data stream had no more data\n",
      "24/06/09 23:33:13 ERROR ReceiverTracker: Deregistered receiver for stream 0: Restarting receiver with delay 2000ms: Socket data stream had no more data\n",
      "24/06/09 23:33:16 ERROR ReceiverTracker: Deregistered receiver for stream 0: Restarting receiver with delay 2000ms: Socket data stream had no more data\n",
      "24/06/09 23:33:18 ERROR ReceiverTracker: Deregistered receiver for stream 0: Restarting receiver with delay 2000ms: Socket data stream had no more data\n",
      "24/06/09 23:33:21 ERROR ReceiverTracker: Deregistered receiver for stream 0: Restarting receiver with delay 2000ms: Socket data stream had no more data\n",
      "24/06/09 23:33:24 ERROR ReceiverTracker: Deregistered receiver for stream 0: Restarting receiver with delay 2000ms: Socket data stream had no more data\n",
      "24/06/09 23:33:27 ERROR ReceiverTracker: Deregistered receiver for stream 0: Restarting receiver with delay 2000ms: Socket data stream had no more data\n",
      "24/06/09 23:33:30 ERROR ReceiverTracker: Deregistered receiver for stream 0: Restarting receiver with delay 2000ms: Socket data stream had no more data\n",
      "24/06/09 23:33:33 ERROR ReceiverTracker: Deregistered receiver for stream 0: Restarting receiver with delay 2000ms: Socket data stream had no more data\n",
      "24/06/09 23:33:35 ERROR ReceiverTracker: Deregistered receiver for stream 0: Restarting receiver with delay 2000ms: Socket data stream had no more data\n",
      "24/06/09 23:33:39 ERROR ReceiverTracker: Deregistered receiver for stream 0: Restarting receiver with delay 2000ms: Socket data stream had no more data\n",
      "24/06/09 23:33:42 ERROR ReceiverTracker: Deregistered receiver for stream 0: Restarting receiver with delay 2000ms: Socket data stream had no more data\n",
      "24/06/09 23:33:45 ERROR ReceiverTracker: Deregistered receiver for stream 0: Restarting receiver with delay 2000ms: Socket data stream had no more data\n",
      "24/06/09 23:33:47 ERROR ReceiverTracker: Deregistered receiver for stream 0: Restarting receiver with delay 2000ms: Socket data stream had no more data\n",
      "24/06/09 23:33:51 ERROR ReceiverTracker: Deregistered receiver for stream 0: Restarting receiver with delay 2000ms: Socket data stream had no more data\n",
      "24/06/09 23:33:54 ERROR ReceiverTracker: Deregistered receiver for stream 0: Restarting receiver with delay 2000ms: Socket data stream had no more data\n",
      "24/06/09 23:33:56 ERROR ReceiverTracker: Deregistered receiver for stream 0: Restarting receiver with delay 2000ms: Socket data stream had no more data\n",
      "24/06/09 23:33:59 ERROR ReceiverTracker: Deregistered receiver for stream 0: Restarting receiver with delay 2000ms: Socket data stream had no more data\n",
      "                                                                                \r"
     ]
    },
    {
     "name": "stdout",
     "output_type": "stream",
     "text": [
      "Processing RDD...\n"
     ]
    },
    {
     "name": "stderr",
     "output_type": "stream",
     "text": [
      "                                                                                \r"
     ]
    },
    {
     "name": "stdout",
     "output_type": "stream",
     "text": [
      "+-------------------+-------------------+---------+------------------------------------------------------------------------------------------+-------------------------------------------------+--------+---------+\n",
      "|author             |date               |subreddit|title                                                                                     |filtered_title                                   |polarity|sentiment|\n",
      "+-------------------+-------------------+---------+------------------------------------------------------------------------------------------+-------------------------------------------------+--------+---------+\n",
      "|Only-Carpenter-6689|2024-06-09 23:03:39|AskReddit|(Serious) What is something that's been eating at you that you want to get off your chest?|(Serious) something that's eating want get chest?|0.0772  |positive |\n",
      "|KnownNormie        |2024-06-09 23:02:54|AskReddit|What movie was so bad you walked out of the theater before it was finished?               |movie bad walked theater finished?               |-0.5423 |negative |\n",
      "|Final_Access_3215  |2024-06-09 23:04:07|AskReddit|What was something good that came from COVID in your eyes?                                |something good came COVID eyes?                  |0.4404  |positive |\n",
      "+-------------------+-------------------+---------+------------------------------------------------------------------------------------------+-------------------------------------------------+--------+---------+\n",
      "\n",
      "Word count for window\n",
      "+---------+-----+\n",
      "|     word|count|\n",
      "+---------+-----+\n",
      "|(serious)|    1|\n",
      "|   chest?|    1|\n",
      "|finished?|    1|\n",
      "|    covid|    1|\n",
      "|      bad|    1|\n",
      "|    movie|    1|\n",
      "|     want|    1|\n",
      "|    eyes?|    1|\n",
      "|      get|    1|\n",
      "|  theater|    1|\n",
      "+---------+-----+\n",
      "only showing top 10 rows\n",
      "\n"
     ]
    },
    {
     "name": "stderr",
     "output_type": "stream",
     "text": [
      "24/06/09 23:34:03 ERROR ReceiverTracker: Deregistered receiver for stream 0: Restarting receiver with delay 2000ms: Socket data stream had no more data\n",
      "24/06/09 23:34:06 ERROR ReceiverTracker: Deregistered receiver for stream 0: Restarting receiver with delay 2000ms: Socket data stream had no more data\n",
      "24/06/09 23:34:09 ERROR ReceiverTracker: Deregistered receiver for stream 0: Restarting receiver with delay 2000ms: Socket data stream had no more data\n",
      "24/06/09 23:34:11 ERROR ReceiverTracker: Deregistered receiver for stream 0: Restarting receiver with delay 2000ms: Socket data stream had no more data\n",
      "24/06/09 23:34:15 ERROR ReceiverTracker: Deregistered receiver for stream 0: Restarting receiver with delay 2000ms: Socket data stream had no more data\n",
      "24/06/09 23:34:18 ERROR ReceiverTracker: Deregistered receiver for stream 0: Restarting receiver with delay 2000ms: Socket data stream had no more data\n",
      "24/06/09 23:34:20 ERROR ReceiverTracker: Deregistered receiver for stream 0: Restarting receiver with delay 2000ms: Socket data stream had no more data\n",
      "24/06/09 23:34:23 ERROR ReceiverTracker: Deregistered receiver for stream 0: Restarting receiver with delay 2000ms: Socket data stream had no more data\n",
      "24/06/09 23:34:26 ERROR ReceiverTracker: Deregistered receiver for stream 0: Restarting receiver with delay 2000ms: Socket data stream had no more data\n",
      "24/06/09 23:34:28 ERROR ReceiverTracker: Deregistered receiver for stream 0: Restarting receiver with delay 2000ms: Socket data stream had no more data\n",
      "24/06/09 23:34:31 ERROR ReceiverTracker: Deregistered receiver for stream 0: Restarting receiver with delay 2000ms: Socket data stream had no more data\n",
      "24/06/09 23:34:34 ERROR ReceiverTracker: Deregistered receiver for stream 0: Restarting receiver with delay 2000ms: Socket data stream had no more data\n",
      "24/06/09 23:34:37 ERROR ReceiverTracker: Deregistered receiver for stream 0: Restarting receiver with delay 2000ms: Socket data stream had no more data\n",
      "24/06/09 23:34:40 ERROR ReceiverTracker: Deregistered receiver for stream 0: Restarting receiver with delay 2000ms: Socket data stream had no more data\n",
      "24/06/09 23:34:42 ERROR ReceiverTracker: Deregistered receiver for stream 0: Restarting receiver with delay 2000ms: Socket data stream had no more data\n",
      "24/06/09 23:34:46 ERROR ReceiverTracker: Deregistered receiver for stream 0: Restarting receiver with delay 2000ms: Socket data stream had no more data\n",
      "24/06/09 23:34:48 ERROR ReceiverTracker: Deregistered receiver for stream 0: Restarting receiver with delay 2000ms: Socket data stream had no more data\n",
      "24/06/09 23:34:51 ERROR ReceiverTracker: Deregistered receiver for stream 0: Restarting receiver with delay 2000ms: Socket data stream had no more data\n",
      "24/06/09 23:34:54 ERROR ReceiverTracker: Deregistered receiver for stream 0: Restarting receiver with delay 2000ms: Socket data stream had no more data\n",
      "24/06/09 23:34:57 ERROR ReceiverTracker: Deregistered receiver for stream 0: Restarting receiver with delay 2000ms: Socket data stream had no more data\n",
      "24/06/09 23:34:59 ERROR ReceiverTracker: Deregistered receiver for stream 0: Restarting receiver with delay 2000ms: Socket data stream had no more data\n"
     ]
    },
    {
     "name": "stdout",
     "output_type": "stream",
     "text": [
      "Processing RDD...\n"
     ]
    },
    {
     "name": "stderr",
     "output_type": "stream",
     "text": [
      "24/06/09 23:35:02 ERROR ReceiverTracker: Deregistered receiver for stream 0: Restarting receiver with delay 2000ms: Socket data stream had no more data\n"
     ]
    },
    {
     "name": "stdout",
     "output_type": "stream",
     "text": [
      "+------------------+-------------------+---------+-----------------------------------------------------------------+--------------------------------------------------------+--------+---------+\n",
      "|author            |date               |subreddit|title                                                            |filtered_title                                          |polarity|sentiment|\n",
      "+------------------+-------------------+---------+-----------------------------------------------------------------+--------------------------------------------------------+--------+---------+\n",
      "|Final_Access_3215 |2024-06-09 23:04:07|AskReddit|What was something good that came from COVID in your eyes?       |something good came COVID eyes?                         |0.4404  |positive |\n",
      "|inspector_gadget24|2024-06-09 23:04:57|AskReddit|What's a reddit post thats popular to the entire internet world ?|What's reddit post thats popular entire internet world ?|0.4215  |positive |\n",
      "+------------------+-------------------+---------+-----------------------------------------------------------------+--------------------------------------------------------+--------+---------+\n",
      "\n",
      "Word count for window\n",
      "+---------+-----+\n",
      "|     word|count|\n",
      "+---------+-----+\n",
      "|  popular|    1|\n",
      "|    thats|    1|\n",
      "|    covid|    1|\n",
      "|   entire|    1|\n",
      "| internet|    1|\n",
      "|   reddit|    1|\n",
      "|    eyes?|    1|\n",
      "|    world|    1|\n",
      "|something|    1|\n",
      "|     good|    1|\n",
      "+---------+-----+\n",
      "only showing top 10 rows\n",
      "\n"
     ]
    },
    {
     "name": "stderr",
     "output_type": "stream",
     "text": [
      "24/06/09 23:35:05 ERROR ReceiverTracker: Deregistered receiver for stream 0: Restarting receiver with delay 2000ms: Socket data stream had no more data\n",
      "24/06/09 23:35:08 ERROR ReceiverTracker: Deregistered receiver for stream 0: Restarting receiver with delay 2000ms: Socket data stream had no more data\n",
      "24/06/09 23:35:11 ERROR ReceiverTracker: Deregistered receiver for stream 0: Restarting receiver with delay 2000ms: Socket data stream had no more data\n",
      "24/06/09 23:35:14 ERROR ReceiverTracker: Deregistered receiver for stream 0: Restarting receiver with delay 2000ms: Socket data stream had no more data\n",
      "24/06/09 23:35:16 ERROR ReceiverTracker: Deregistered receiver for stream 0: Restarting receiver with delay 2000ms: Socket data stream had no more data\n",
      "24/06/09 23:35:19 ERROR ReceiverTracker: Deregistered receiver for stream 0: Restarting receiver with delay 2000ms: Socket data stream had no more data\n",
      "24/06/09 23:35:22 ERROR ReceiverTracker: Deregistered receiver for stream 0: Restarting receiver with delay 2000ms: Socket data stream had no more data\n",
      "24/06/09 23:35:25 ERROR ReceiverTracker: Deregistered receiver for stream 0: Restarting receiver with delay 2000ms: Socket data stream had no more data\n",
      "24/06/09 23:35:28 ERROR ReceiverTracker: Deregistered receiver for stream 0: Restarting receiver with delay 2000ms: Socket data stream had no more data\n",
      "24/06/09 23:35:31 ERROR ReceiverTracker: Deregistered receiver for stream 0: Restarting receiver with delay 2000ms: Socket data stream had no more data\n",
      "24/06/09 23:35:34 ERROR ReceiverTracker: Deregistered receiver for stream 0: Restarting receiver with delay 2000ms: Socket data stream had no more data\n",
      "24/06/09 23:35:37 ERROR ReceiverTracker: Deregistered receiver for stream 0: Restarting receiver with delay 2000ms: Socket data stream had no more data\n",
      "24/06/09 23:35:39 ERROR ReceiverTracker: Deregistered receiver for stream 0: Restarting receiver with delay 2000ms: Socket data stream had no more data\n",
      "24/06/09 23:35:42 ERROR ReceiverTracker: Deregistered receiver for stream 0: Restarting receiver with delay 2000ms: Socket data stream had no more data\n",
      "24/06/09 23:35:45 ERROR ReceiverTracker: Deregistered receiver for stream 0: Restarting receiver with delay 2000ms: Socket data stream had no more data\n",
      "24/06/09 23:35:48 ERROR ReceiverTracker: Deregistered receiver for stream 0: Restarting receiver with delay 2000ms: Socket data stream had no more data\n",
      "24/06/09 23:35:51 ERROR ReceiverTracker: Deregistered receiver for stream 0: Restarting receiver with delay 2000ms: Socket data stream had no more data\n",
      "24/06/09 23:35:53 ERROR ReceiverTracker: Deregistered receiver for stream 0: Restarting receiver with delay 2000ms: Socket data stream had no more data\n",
      "24/06/09 23:35:56 ERROR ReceiverTracker: Deregistered receiver for stream 0: Restarting receiver with delay 2000ms: Socket data stream had no more data\n"
     ]
    },
    {
     "name": "stdout",
     "output_type": "stream",
     "text": [
      "Processing RDD...\n"
     ]
    },
    {
     "name": "stderr",
     "output_type": "stream",
     "text": [
      "24/06/09 23:36:00 ERROR ReceiverTracker: Deregistered receiver for stream 0: Restarting receiver with delay 2000ms: Socket data stream had no more data\n",
      "                                                                                \r"
     ]
    },
    {
     "name": "stdout",
     "output_type": "stream",
     "text": [
      "+------------------+-------------------+---------+---------------------------------------------------------------------------------------------------------------------------------+-----------------------------------------------------------------------------+--------+---------+\n",
      "|author            |date               |subreddit|title                                                                                                                            |filtered_title                                                               |polarity|sentiment|\n",
      "+------------------+-------------------+---------+---------------------------------------------------------------------------------------------------------------------------------+-----------------------------------------------------------------------------+--------+---------+\n",
      "|-Benjamin_Dover-  |2024-06-09 23:05:54|AskReddit|Something happened to you and your response is to curl up into a corner and cry. Based on this information, what happened to you?|Something happened response curl corner cry. Based information, happened you?|-0.4767 |negative |\n",
      "|inspector_gadget24|2024-06-09 23:04:57|AskReddit|What's a reddit post thats popular to the entire internet world ?                                                                |What's reddit post thats popular entire internet world ?                     |0.4215  |positive |\n",
      "+------------------+-------------------+---------+---------------------------------------------------------------------------------------------------------------------------------+-----------------------------------------------------------------------------+--------+---------+\n",
      "\n",
      "Word count for window\n",
      "+------------+-----+\n",
      "|        word|count|\n",
      "+------------+-----+\n",
      "|        curl|    1|\n",
      "|       based|    1|\n",
      "|     popular|    1|\n",
      "|    response|    1|\n",
      "|       thats|    1|\n",
      "|information,|    1|\n",
      "|      entire|    1|\n",
      "|        cry.|    1|\n",
      "|    internet|    1|\n",
      "|      reddit|    1|\n",
      "+------------+-----+\n",
      "only showing top 10 rows\n",
      "\n"
     ]
    },
    {
     "name": "stderr",
     "output_type": "stream",
     "text": [
      "24/06/09 23:36:03 ERROR ReceiverTracker: Deregistered receiver for stream 0: Restarting receiver with delay 2000ms: Socket data stream had no more data\n",
      "24/06/09 23:36:06 ERROR ReceiverTracker: Deregistered receiver for stream 0: Restarting receiver with delay 2000ms: Socket data stream had no more data\n",
      "24/06/09 23:36:08 ERROR ReceiverTracker: Deregistered receiver for stream 0: Restarting receiver with delay 2000ms: Socket data stream had no more data\n",
      "24/06/09 23:36:11 ERROR ReceiverTracker: Deregistered receiver for stream 0: Restarting receiver with delay 2000ms: Socket data stream had no more data\n",
      "24/06/09 23:36:14 ERROR ReceiverTracker: Deregistered receiver for stream 0: Restarting receiver with delay 2000ms: Socket data stream had no more data\n",
      "24/06/09 23:36:17 ERROR ReceiverTracker: Deregistered receiver for stream 0: Restarting receiver with delay 2000ms: Socket data stream had no more data\n",
      "24/06/09 23:36:19 ERROR ReceiverTracker: Deregistered receiver for stream 0: Restarting receiver with delay 2000ms: Socket data stream had no more data\n",
      "24/06/09 23:36:22 ERROR ReceiverTracker: Deregistered receiver for stream 0: Restarting receiver with delay 2000ms: Socket data stream had no more data\n",
      "24/06/09 23:36:25 ERROR ReceiverTracker: Deregistered receiver for stream 0: Restarting receiver with delay 2000ms: Socket data stream had no more data\n",
      "24/06/09 23:36:28 ERROR ReceiverTracker: Deregistered receiver for stream 0: Restarting receiver with delay 2000ms: Socket data stream had no more data\n",
      "24/06/09 23:36:31 ERROR ReceiverTracker: Deregistered receiver for stream 0: Restarting receiver with delay 2000ms: Socket data stream had no more data\n",
      "24/06/09 23:36:34 ERROR ReceiverTracker: Deregistered receiver for stream 0: Restarting receiver with delay 2000ms: Socket data stream had no more data\n",
      "24/06/09 23:36:37 ERROR ReceiverTracker: Deregistered receiver for stream 0: Restarting receiver with delay 2000ms: Socket data stream had no more data\n",
      "24/06/09 23:36:39 ERROR ReceiverTracker: Deregistered receiver for stream 0: Restarting receiver with delay 2000ms: Socket data stream had no more data\n",
      "24/06/09 23:36:42 ERROR ReceiverTracker: Deregistered receiver for stream 0: Restarting receiver with delay 2000ms: Socket data stream had no more data\n",
      "24/06/09 23:36:45 ERROR ReceiverTracker: Deregistered receiver for stream 0: Restarting receiver with delay 2000ms: Socket data stream had no more data\n",
      "24/06/09 23:36:48 ERROR ReceiverTracker: Deregistered receiver for stream 0: Restarting receiver with delay 2000ms: Socket data stream had no more data\n",
      "24/06/09 23:36:51 ERROR ReceiverTracker: Deregistered receiver for stream 0: Restarting receiver with delay 2000ms: Socket data stream had no more data\n",
      "24/06/09 23:36:53 ERROR ReceiverTracker: Deregistered receiver for stream 0: Restarting receiver with delay 2000ms: Socket data stream had no more data\n",
      "24/06/09 23:36:56 ERROR ReceiverTracker: Deregistered receiver for stream 0: Restarting receiver with delay 2000ms: Socket data stream had no more data\n",
      "24/06/09 23:36:59 ERROR ReceiverTracker: Deregistered receiver for stream 0: Restarting receiver with delay 2000ms: Socket data stream had no more data\n"
     ]
    },
    {
     "name": "stdout",
     "output_type": "stream",
     "text": [
      "Processing RDD...\n"
     ]
    },
    {
     "name": "stderr",
     "output_type": "stream",
     "text": [
      "24/06/09 23:37:02 ERROR ReceiverTracker: Deregistered receiver for stream 0: Restarting receiver with delay 2000ms: Socket data stream had no more data\n"
     ]
    },
    {
     "name": "stdout",
     "output_type": "stream",
     "text": [
      "+--------------------+-------------------+---------+----------------------------------------------------------------------------------------------------------------------------------------------------------------------------------------------------------------------------------------------------------+-------------------------------------------------------------------------------------------------------------------------------------------+--------+---------+\n",
      "|author              |date               |subreddit|title                                                                                                                                                                                                                                                     |filtered_title                                                                                                                             |polarity|sentiment|\n",
      "+--------------------+-------------------+---------+----------------------------------------------------------------------------------------------------------------------------------------------------------------------------------------------------------------------------------------------------------+-------------------------------------------------------------------------------------------------------------------------------------------+--------+---------+\n",
      "|likes2cooknwander   |2024-06-09 23:06:20|ask      |I have a friend who believes that after our bodies die, we go on to experience some sort of cloudlike grape+filled fantasy that lasts an eternity. How do I explain to him that after cellular death, what we perceive and who we are both cease to exist?|friend believes bodies die, go experience sort cloudlike grape+filled fantasy lasts eternity. explain cellular death, perceive cease exist?|-0.6808 |negative |\n",
      "|StrictEntry7991     |2024-06-09 23:06:20|AskReddit|What songs make you \"go all night long\"?                                                                                                                                                                                                                  |songs make \"go night long\"?                                                                                                                |0.0     |neutral  |\n",
      "|Foreign-Message-7791|2024-06-09 23:07:12|ask      |Are g-shock watches solar powered?                                                                                                                                                                                                                        |g-shock watches solar powered?                                                                                                             |0.0     |neutral  |\n",
      "|memelord8623        |2024-06-09 23:07:08|AskReddit|Hypothetically, you were given 1 airstrike per year to anywhere of your choosing, how would you use it?                                                                                                                                                   |Hypothetically, given 1 airstrike per year anywhere choosing, would use it?                                                                |0.0     |neutral  |\n",
      "+--------------------+-------------------+---------+----------------------------------------------------------------------------------------------------------------------------------------------------------------------------------------------------------------------------------------------------------+-------------------------------------------------------------------------------------------------------------------------------------------+--------+---------+\n",
      "\n",
      "Word count for window\n",
      "+--------+-----+\n",
      "|    word|count|\n",
      "+--------+-----+\n",
      "| g-shock|    1|\n",
      "| explain|    1|\n",
      "|powered?|    1|\n",
      "| fantasy|    1|\n",
      "|   solar|    1|\n",
      "|  bodies|    1|\n",
      "|    die,|    1|\n",
      "|  friend|    1|\n",
      "|   songs|    1|\n",
      "|     per|    1|\n",
      "+--------+-----+\n",
      "only showing top 10 rows\n",
      "\n"
     ]
    },
    {
     "name": "stderr",
     "output_type": "stream",
     "text": [
      "24/06/09 23:37:05 ERROR ReceiverTracker: Deregistered receiver for stream 0: Restarting receiver with delay 2000ms: Socket data stream had no more data\n",
      "24/06/09 23:37:08 ERROR ReceiverTracker: Deregistered receiver for stream 0: Restarting receiver with delay 2000ms: Socket data stream had no more data\n",
      "24/06/09 23:37:10 ERROR ReceiverTracker: Deregistered receiver for stream 0: Restarting receiver with delay 2000ms: Socket data stream had no more data\n",
      "24/06/09 23:37:13 ERROR ReceiverTracker: Deregistered receiver for stream 0: Restarting receiver with delay 2000ms: Socket data stream had no more data\n",
      "24/06/09 23:37:16 ERROR ReceiverTracker: Deregistered receiver for stream 0: Restarting receiver with delay 2000ms: Socket data stream had no more data\n",
      "24/06/09 23:37:19 ERROR ReceiverTracker: Deregistered receiver for stream 0: Restarting receiver with delay 2000ms: Socket data stream had no more data\n",
      "24/06/09 23:37:22 ERROR ReceiverTracker: Deregistered receiver for stream 0: Restarting receiver with delay 2000ms: Socket data stream had no more data\n",
      "24/06/09 23:37:25 ERROR ReceiverTracker: Deregistered receiver for stream 0: Restarting receiver with delay 2000ms: Socket data stream had no more data\n",
      "24/06/09 23:37:28 ERROR ReceiverTracker: Deregistered receiver for stream 0: Restarting receiver with delay 2000ms: Socket data stream had no more data\n",
      "24/06/09 23:37:31 ERROR ReceiverTracker: Deregistered receiver for stream 0: Restarting receiver with delay 2000ms: Socket data stream had no more data\n",
      "24/06/09 23:37:34 ERROR ReceiverTracker: Deregistered receiver for stream 0: Restarting receiver with delay 2000ms: Socket data stream had no more data\n",
      "24/06/09 23:37:37 ERROR ReceiverTracker: Deregistered receiver for stream 0: Restarting receiver with delay 2000ms: Socket data stream had no more data\n",
      "24/06/09 23:37:40 ERROR ReceiverTracker: Deregistered receiver for stream 0: Restarting receiver with delay 2000ms: Socket data stream had no more data\n",
      "24/06/09 23:37:43 ERROR ReceiverTracker: Deregistered receiver for stream 0: Restarting receiver with delay 2000ms: Socket data stream had no more data\n",
      "24/06/09 23:37:45 ERROR ReceiverTracker: Deregistered receiver for stream 0: Restarting receiver with delay 2000ms: Socket data stream had no more data\n",
      "24/06/09 23:37:48 ERROR ReceiverTracker: Deregistered receiver for stream 0: Restarting receiver with delay 2000ms: Socket data stream had no more data\n",
      "24/06/09 23:37:51 ERROR ReceiverTracker: Deregistered receiver for stream 0: Restarting receiver with delay 2000ms: Socket data stream had no more data\n",
      "24/06/09 23:37:54 ERROR ReceiverTracker: Deregistered receiver for stream 0: Restarting receiver with delay 2000ms: Socket data stream had no more data\n",
      "24/06/09 23:37:57 ERROR ReceiverTracker: Deregistered receiver for stream 0: Restarting receiver with delay 2000ms: Socket data stream had no more data\n"
     ]
    },
    {
     "name": "stdout",
     "output_type": "stream",
     "text": [
      "Processing RDD...\n"
     ]
    },
    {
     "name": "stderr",
     "output_type": "stream",
     "text": [
      "24/06/09 23:38:00 ERROR ReceiverTracker: Deregistered receiver for stream 0: Restarting receiver with delay 2000ms: Socket data stream had no more data\n",
      "                                                                                \r"
     ]
    },
    {
     "name": "stdout",
     "output_type": "stream",
     "text": [
      "+--------------------+-------------------+-------------+----------------------------------------------------------------------+---------------------------------------------------+--------+---------+\n",
      "|author              |date               |subreddit    |title                                                                 |filtered_title                                     |polarity|sentiment|\n",
      "+--------------------+-------------------+-------------+----------------------------------------------------------------------+---------------------------------------------------+--------+---------+\n",
      "|Foreign-Message-7791|2024-06-09 23:07:12|ask          |Are g-shock watches solar powered?                                    |g-shock watches solar powered?                     |0.0     |neutral  |\n",
      "|andeveryone         |2024-06-09 23:07:19|AskReddit    |What is the scariest thing you’ve ever experienced?                   |scariest thing you’ve ever experienced?            |0.0     |neutral  |\n",
      "|I_dont_know82       |2024-06-09 23:07:17|askphilosophy|Does free will exist?                                                 |free exist?                                        |0.5106  |positive |\n",
      "|Small-Support-3677  |2024-06-09 23:08:54|AskReddit    |How do you feel about having palms sweaty, knees weak, and arms heavy?|feel palms sweaty, knees weak, arms heavy?         |-0.4404 |negative |\n",
      "|IamFlickr           |2024-06-09 23:08:12|AskReddit    |What is the strangest thing someone has said to start a conversation? |strangest thing someone said start conversation?   |0.0     |neutral  |\n",
      "|otupac9             |2024-06-09 23:07:29|AskReddit    |What happens if in a movie sex scene the actor actually gets a boner ?|happens movie sex scene actor actually gets boner ?|0.0     |neutral  |\n",
      "+--------------------+-------------------+-------------+----------------------------------------------------------------------+---------------------------------------------------+--------+---------+\n",
      "\n",
      "Word count for window\n",
      "+-------------+-----+\n",
      "|         word|count|\n",
      "+-------------+-----+\n",
      "|       you’ve|    1|\n",
      "|conversation?|    1|\n",
      "|        knees|    1|\n",
      "|     powered?|    1|\n",
      "|       exist?|    1|\n",
      "|        palms|    1|\n",
      "|        movie|    1|\n",
      "|     actually|    1|\n",
      "|        boner|    1|\n",
      "|      sweaty,|    1|\n",
      "+-------------+-----+\n",
      "only showing top 10 rows\n",
      "\n"
     ]
    },
    {
     "name": "stderr",
     "output_type": "stream",
     "text": [
      "24/06/09 23:38:02 ERROR ReceiverTracker: Deregistered receiver for stream 0: Restarting receiver with delay 2000ms: Socket data stream had no more data\n",
      "24/06/09 23:38:05 ERROR ReceiverTracker: Deregistered receiver for stream 0: Restarting receiver with delay 2000ms: Socket data stream had no more data\n",
      "24/06/09 23:38:08 ERROR ReceiverTracker: Deregistered receiver for stream 0: Restarting receiver with delay 2000ms: Socket data stream had no more data\n",
      "24/06/09 23:38:11 ERROR ReceiverTracker: Deregistered receiver for stream 0: Restarting receiver with delay 2000ms: Socket data stream had no more data\n",
      "24/06/09 23:38:13 ERROR ReceiverTracker: Deregistered receiver for stream 0: Restarting receiver with delay 2000ms: Socket data stream had no more data\n",
      "24/06/09 23:38:16 ERROR ReceiverTracker: Deregistered receiver for stream 0: Restarting receiver with delay 2000ms: Socket data stream had no more data\n",
      "24/06/09 23:38:19 ERROR ReceiverTracker: Deregistered receiver for stream 0: Restarting receiver with delay 2000ms: Socket data stream had no more data\n",
      "24/06/09 23:38:22 ERROR ReceiverTracker: Deregistered receiver for stream 0: Restarting receiver with delay 2000ms: Socket data stream had no more data\n",
      "24/06/09 23:38:25 ERROR ReceiverTracker: Deregistered receiver for stream 0: Restarting receiver with delay 2000ms: Socket data stream had no more data\n",
      "24/06/09 23:38:27 ERROR ReceiverTracker: Deregistered receiver for stream 0: Restarting receiver with delay 2000ms: Socket data stream had no more data\n",
      "24/06/09 23:38:30 ERROR ReceiverTracker: Deregistered receiver for stream 0: Restarting receiver with delay 2000ms: Socket data stream had no more data\n",
      "24/06/09 23:38:33 ERROR ReceiverTracker: Deregistered receiver for stream 0: Restarting receiver with delay 2000ms: Socket data stream had no more data\n",
      "24/06/09 23:38:36 ERROR ReceiverTracker: Deregistered receiver for stream 0: Restarting receiver with delay 2000ms: Socket data stream had no more data\n",
      "24/06/09 23:38:39 ERROR ReceiverTracker: Deregistered receiver for stream 0: Restarting receiver with delay 2000ms: Socket data stream had no more data\n",
      "24/06/09 23:38:42 ERROR ReceiverTracker: Deregistered receiver for stream 0: Restarting receiver with delay 2000ms: Socket data stream had no more data\n",
      "24/06/09 23:38:44 ERROR ReceiverTracker: Deregistered receiver for stream 0: Restarting receiver with delay 2000ms: Socket data stream had no more data\n",
      "24/06/09 23:38:47 ERROR ReceiverTracker: Deregistered receiver for stream 0: Restarting receiver with delay 2000ms: Socket data stream had no more data\n",
      "24/06/09 23:38:50 ERROR ReceiverTracker: Deregistered receiver for stream 0: Restarting receiver with delay 2000ms: Socket data stream had no more data\n",
      "24/06/09 23:38:53 ERROR ReceiverTracker: Deregistered receiver for stream 0: Restarting receiver with delay 2000ms: Socket data stream had no more data\n",
      "24/06/09 23:38:55 ERROR ReceiverTracker: Deregistered receiver for stream 0: Restarting receiver with delay 2000ms: Socket data stream had no more data\n",
      "24/06/09 23:38:58 ERROR ReceiverTracker: Deregistered receiver for stream 0: Restarting receiver with delay 2000ms: Socket data stream had no more data\n"
     ]
    },
    {
     "name": "stdout",
     "output_type": "stream",
     "text": [
      "Processing RDD...\n"
     ]
    },
    {
     "name": "stderr",
     "output_type": "stream",
     "text": [
      "24/06/09 23:39:01 ERROR ReceiverTracker: Deregistered receiver for stream 0: Restarting receiver with delay 2000ms: Socket data stream had no more data\n",
      "                                                                                \r"
     ]
    },
    {
     "name": "stdout",
     "output_type": "stream",
     "text": [
      "+------------------+-------------------+---------+----------------------------------------------------------------------+------------------------------------------+--------+---------+\n",
      "|author            |date               |subreddit|title                                                                 |filtered_title                            |polarity|sentiment|\n",
      "+------------------+-------------------+---------+----------------------------------------------------------------------+------------------------------------------+--------+---------+\n",
      "|Small-Support-3677|2024-06-09 23:08:54|AskReddit|How do you feel about having palms sweaty, knees weak, and arms heavy?|feel palms sweaty, knees weak, arms heavy?|-0.4404 |negative |\n",
      "|RateChemical8339  |2024-06-09 23:09:19|ask      |what is an app i can use to organize my clothes?                      |app use organize clothes?                 |0.0     |neutral  |\n",
      "+------------------+-------------------+---------+----------------------------------------------------------------------+------------------------------------------+--------+---------+\n",
      "\n",
      "Word count for window\n",
      "+--------+-----+\n",
      "|    word|count|\n",
      "+--------+-----+\n",
      "|   weak,|    1|\n",
      "|   palms|    1|\n",
      "|organize|    1|\n",
      "|clothes?|    1|\n",
      "| sweaty,|    1|\n",
      "|     use|    1|\n",
      "|   knees|    1|\n",
      "|     app|    1|\n",
      "|    feel|    1|\n",
      "|    arms|    1|\n",
      "+--------+-----+\n",
      "only showing top 10 rows\n",
      "\n"
     ]
    },
    {
     "name": "stderr",
     "output_type": "stream",
     "text": [
      "24/06/09 23:39:04 ERROR ReceiverTracker: Deregistered receiver for stream 0: Restarting receiver with delay 2000ms: Socket data stream had no more data\n",
      "24/06/09 23:39:07 ERROR ReceiverTracker: Deregistered receiver for stream 0: Restarting receiver with delay 2000ms: Socket data stream had no more data\n",
      "24/06/09 23:39:09 ERROR ReceiverTracker: Deregistered receiver for stream 0: Restarting receiver with delay 2000ms: Socket data stream had no more data\n",
      "24/06/09 23:39:12 ERROR ReceiverTracker: Deregistered receiver for stream 0: Restarting receiver with delay 2000ms: Socket data stream had no more data\n",
      "24/06/09 23:39:15 ERROR ReceiverTracker: Deregistered receiver for stream 0: Restarting receiver with delay 2000ms: Socket data stream had no more data\n",
      "24/06/09 23:39:18 ERROR ReceiverTracker: Deregistered receiver for stream 0: Restarting receiver with delay 2000ms: Socket data stream had no more data\n",
      "24/06/09 23:39:21 ERROR ReceiverTracker: Deregistered receiver for stream 0: Restarting receiver with delay 2000ms: Socket data stream had no more data\n",
      "24/06/09 23:39:24 ERROR ReceiverTracker: Deregistered receiver for stream 0: Restarting receiver with delay 2000ms: Socket data stream had no more data\n",
      "24/06/09 23:39:27 ERROR ReceiverTracker: Deregistered receiver for stream 0: Restarting receiver with delay 2000ms: Socket data stream had no more data\n",
      "24/06/09 23:39:30 ERROR ReceiverTracker: Deregistered receiver for stream 0: Restarting receiver with delay 2000ms: Socket data stream had no more data\n",
      "24/06/09 23:39:32 ERROR ReceiverTracker: Deregistered receiver for stream 0: Restarting receiver with delay 2000ms: Socket data stream had no more data\n",
      "24/06/09 23:39:35 ERROR ReceiverTracker: Deregistered receiver for stream 0: Restarting receiver with delay 2000ms: Socket data stream had no more data\n",
      "24/06/09 23:39:38 ERROR ReceiverTracker: Deregistered receiver for stream 0: Restarting receiver with delay 2000ms: Socket data stream had no more data\n",
      "24/06/09 23:39:41 ERROR ReceiverTracker: Deregistered receiver for stream 0: Restarting receiver with delay 2000ms: Socket data stream had no more data\n",
      "24/06/09 23:39:44 ERROR ReceiverTracker: Deregistered receiver for stream 0: Restarting receiver with delay 2000ms: Error receiving data - java.net.SocketException: Connection reset\n",
      "\tat java.base/sun.nio.ch.NioSocketImpl.implRead(NioSocketImpl.java:328)\n",
      "\tat java.base/sun.nio.ch.NioSocketImpl.read(NioSocketImpl.java:355)\n",
      "\tat java.base/sun.nio.ch.NioSocketImpl$1.read(NioSocketImpl.java:808)\n",
      "\tat java.base/java.net.Socket$SocketInputStream.read(Socket.java:966)\n",
      "\tat java.base/sun.nio.cs.StreamDecoder.readBytes(StreamDecoder.java:270)\n",
      "\tat java.base/sun.nio.cs.StreamDecoder.implRead(StreamDecoder.java:313)\n",
      "\tat java.base/sun.nio.cs.StreamDecoder.read(StreamDecoder.java:188)\n",
      "\tat java.base/java.io.InputStreamReader.read(InputStreamReader.java:177)\n",
      "\tat java.base/java.io.BufferedReader.fill(BufferedReader.java:162)\n",
      "\tat java.base/java.io.BufferedReader.readLine(BufferedReader.java:329)\n",
      "\tat java.base/java.io.BufferedReader.readLine(BufferedReader.java:396)\n",
      "\tat org.apache.spark.streaming.dstream.SocketReceiver$$anon$2.getNext(SocketInputDStream.scala:121)\n",
      "\tat org.apache.spark.streaming.dstream.SocketReceiver$$anon$2.getNext(SocketInputDStream.scala:119)\n",
      "\tat org.apache.spark.util.NextIterator.hasNext(NextIterator.scala:73)\n",
      "\tat org.apache.spark.streaming.dstream.SocketReceiver.receive(SocketInputDStream.scala:91)\n",
      "\tat org.apache.spark.streaming.dstream.SocketReceiver$$anon$1.run(SocketInputDStream.scala:72)\n",
      "\n",
      "24/06/09 23:39:46 ERROR ReceiverTracker: Deregistered receiver for stream 0: Restarting receiver with delay 2000ms: Error connecting to 127.0.0.1:9998 - java.net.ConnectException: Connection refused\n",
      "\tat java.base/sun.nio.ch.Net.connect0(Native Method)\n",
      "\tat java.base/sun.nio.ch.Net.connect(Net.java:579)\n",
      "\tat java.base/sun.nio.ch.Net.connect(Net.java:568)\n",
      "\tat java.base/sun.nio.ch.NioSocketImpl.connect(NioSocketImpl.java:593)\n",
      "\tat java.base/java.net.SocksSocketImpl.connect(SocksSocketImpl.java:327)\n",
      "\tat java.base/java.net.Socket.connect(Socket.java:633)\n",
      "\tat java.base/java.net.Socket.connect(Socket.java:583)\n",
      "\tat java.base/java.net.Socket.<init>(Socket.java:507)\n",
      "\tat java.base/java.net.Socket.<init>(Socket.java:287)\n",
      "\tat org.apache.spark.streaming.dstream.SocketReceiver.onStart(SocketInputDStream.scala:61)\n",
      "\tat org.apache.spark.streaming.receiver.ReceiverSupervisor.startReceiver(ReceiverSupervisor.scala:149)\n",
      "\tat org.apache.spark.streaming.receiver.ReceiverSupervisor.$anonfun$restartReceiver$1(ReceiverSupervisor.scala:198)\n",
      "\tat scala.runtime.java8.JFunction0$mcV$sp.apply(JFunction0$mcV$sp.java:23)\n",
      "\tat scala.concurrent.Future$.$anonfun$apply$1(Future.scala:659)\n",
      "\tat scala.util.Success.$anonfun$map$1(Try.scala:255)\n",
      "\tat scala.util.Success.map(Try.scala:213)\n",
      "\tat scala.concurrent.Future.$anonfun$map$1(Future.scala:292)\n",
      "\tat scala.concurrent.impl.Promise.liftedTree1$1(Promise.scala:33)\n",
      "\tat scala.concurrent.impl.Promise.$anonfun$transform$1(Promise.scala:33)\n",
      "\tat scala.concurrent.impl.CallbackRunnable.run(Promise.scala:64)\n",
      "\tat java.base/java.util.concurrent.ThreadPoolExecutor.runWorker(ThreadPoolExecutor.java:1136)\n",
      "\tat java.base/java.util.concurrent.ThreadPoolExecutor$Worker.run(ThreadPoolExecutor.java:635)\n",
      "\tat java.base/java.lang.Thread.run(Thread.java:840)\n",
      "\n",
      "24/06/09 23:39:48 ERROR ReceiverTracker: Deregistered receiver for stream 0: Restarting receiver with delay 2000ms: Error connecting to 127.0.0.1:9998 - java.net.ConnectException: Connection refused\n",
      "\tat java.base/sun.nio.ch.Net.connect0(Native Method)\n",
      "\tat java.base/sun.nio.ch.Net.connect(Net.java:579)\n",
      "\tat java.base/sun.nio.ch.Net.connect(Net.java:568)\n",
      "\tat java.base/sun.nio.ch.NioSocketImpl.connect(NioSocketImpl.java:593)\n",
      "\tat java.base/java.net.SocksSocketImpl.connect(SocksSocketImpl.java:327)\n",
      "\tat java.base/java.net.Socket.connect(Socket.java:633)\n",
      "\tat java.base/java.net.Socket.connect(Socket.java:583)\n",
      "\tat java.base/java.net.Socket.<init>(Socket.java:507)\n",
      "\tat java.base/java.net.Socket.<init>(Socket.java:287)\n",
      "\tat org.apache.spark.streaming.dstream.SocketReceiver.onStart(SocketInputDStream.scala:61)\n",
      "\tat org.apache.spark.streaming.receiver.ReceiverSupervisor.startReceiver(ReceiverSupervisor.scala:149)\n",
      "\tat org.apache.spark.streaming.receiver.ReceiverSupervisor.$anonfun$restartReceiver$1(ReceiverSupervisor.scala:198)\n",
      "\tat scala.runtime.java8.JFunction0$mcV$sp.apply(JFunction0$mcV$sp.java:23)\n",
      "\tat scala.concurrent.Future$.$anonfun$apply$1(Future.scala:659)\n",
      "\tat scala.util.Success.$anonfun$map$1(Try.scala:255)\n",
      "\tat scala.util.Success.map(Try.scala:213)\n",
      "\tat scala.concurrent.Future.$anonfun$map$1(Future.scala:292)\n",
      "\tat scala.concurrent.impl.Promise.liftedTree1$1(Promise.scala:33)\n",
      "\tat scala.concurrent.impl.Promise.$anonfun$transform$1(Promise.scala:33)\n",
      "\tat scala.concurrent.impl.CallbackRunnable.run(Promise.scala:64)\n",
      "\tat java.base/java.util.concurrent.ThreadPoolExecutor.runWorker(ThreadPoolExecutor.java:1136)\n",
      "\tat java.base/java.util.concurrent.ThreadPoolExecutor$Worker.run(ThreadPoolExecutor.java:635)\n",
      "\tat java.base/java.lang.Thread.run(Thread.java:840)\n",
      "\n"
     ]
    }
   ],
   "source": [
    "from pyspark import SparkContext\n",
    "from pyspark.streaming import StreamingContext\n",
    "from pyspark.sql import SparkSession, Row\n",
    "from pyspark.sql.functions import explode, split, col, udf, min, max, lit,  lower\n",
    "from pyspark.sql.types import StringType, DoubleType\n",
    "from pyspark.ml.feature import HashingTF, IDF\n",
    "from nltk.sentiment.vader import SentimentIntensityAnalyzer\n",
    "from nltk.corpus import stopwords\n",
    "import json\n",
    "import os\n",
    "\n",
    "sid = SentimentIntensityAnalyzer()\n",
    "stop_words = set(stopwords.words('english'))\n",
    "\n",
    "# Define the host and port\n",
    "host = \"127.0.0.1\"\n",
    "port = 9998\n",
    "\n",
    "# Initialize SparkContext and SparkSession\n",
    "sc = SparkContext(\"local[2]\", \"RedditConsumer\")\n",
    "sc.setLogLevel(\"ERROR\")\n",
    "spark = SparkSession(sc)\n",
    "\n",
    "# Initialize StreamingContext with a batch interval of 10 seconds\n",
    "ssc = StreamingContext(sc, 60)\n",
    "\n",
    "# Ensure the necessary directories exist\n",
    "os.makedirs(\"/data/raw/reddit_ask\", exist_ok=True)\n",
    "os.makedirs(\"/data/output/user_references\", exist_ok=True)\n",
    "os.makedirs(\"/data/output/post_references\", exist_ok=True)\n",
    "os.makedirs(\"/data/output/url_references\", exist_ok=True)\n",
    "os.makedirs(\"/data/output/top_words\", exist_ok=True)\n",
    "os.makedirs(\"/data/output/metrics\", exist_ok=True)\n",
    "os.makedirs(\"/data/output/sentiment_analysis\", exist_ok=True)\n",
    "def normalize_text(text):\n",
    "    text = text.lower()  \n",
    "    text = text.replace(\"’s\", \"\")  \n",
    "    text = text.replace(\"whats\", \"what\")\n",
    "    return text\n",
    "def get_sentiment(text):\n",
    "    scores = sid.polarity_scores(text)\n",
    "    return scores['compound']\n",
    "\n",
    "def classify_sentiment(polarity):\n",
    "    if polarity > 0.05:\n",
    "        return 'positive'\n",
    "    elif polarity < -0.05:\n",
    "        return 'negative'\n",
    "    else:\n",
    "        return 'neutral'\n",
    "\n",
    "def remove_stopwords(text):\n",
    "    words = text.split()\n",
    "    filtered_words = [word for word in words if word.lower() not in stop_words]\n",
    "    return ' '.join(filtered_words)\n",
    "\n",
    "get_sentiment_udf = udf(get_sentiment, DoubleType())\n",
    "classify_sentiment_udf = udf(classify_sentiment, StringType())\n",
    "remove_stopwords_udf = udf(remove_stopwords, StringType())\n",
    "def new_columns(df):\n",
    "    # Remove stopwords from titles\n",
    "    df = df.withColumn(\"filtered_title\", remove_stopwords_udf(col(\"title\")))\n",
    "    df = df.withColumn(\"polarity\", get_sentiment_udf(col(\"filtered_title\")))\n",
    "    df = df.withColumn(\"sentiment\", classify_sentiment_udf(col(\"polarity\")))\n",
    "    return df\n",
    "def tf_idf(df):\n",
    "    words_data = df.select(explode(split(col(\"filtered_title\"), \" \")).alias(\"words\"))\n",
    "    hashing_tf = HashingTF(inputCol=\"words\", outputCol=\"rawFeatures\", numFeatures=20)\n",
    "    idf = IDF(inputCol=\"rawFeatures\", outputCol=\"features\")\n",
    "    tf = hashing_tf.transform(words_data)\n",
    "    idf_model = idf.fit(tf)\n",
    "    return idf_model.transform(tf)\n",
    "def time_optional(df):\n",
    "    # Get the time range of the data\n",
    "    time_range = df.select(min(\"date\").alias(\"start_time\"), max(\"date\").alias(\"end_time\")).collect()\n",
    "    if time_range:\n",
    "        start_time = time_range[0][\"start_time\"]\n",
    "        end_time = time_range[0][\"end_time\"]\n",
    "        print(f\"Time range: {start_time} to {end_time}\")\n",
    "def metric(user_refs):\n",
    "    #optional\n",
    "        # Store metrics in a temporary table\n",
    "    metrics_df = user_refs.join(post_refs, \"word\", \"outer\") \\\n",
    "                          .join(url_refs, \"word\", \"outer\")\n",
    "    metrics_df = metrics_df.withColumn(\"average_sentiment\", lit(average_sentiment))\n",
    "    metrics_df = metrics_df.withColumn(\"start_time\", lit(start_time))\n",
    "    metrics_df = metrics_df.withColumn(\"end_time\", lit(end_time))\n",
    "    metrics_df.createOrReplaceTempView(\"metrics\")\n",
    "    metrics_df.write.json(\"/data/output/metrics\", mode=\"append\")\n",
    "    print(\"Metrics table created and saved.\")\n",
    "    metrics_df.show(5, truncate=False)\n",
    "\n",
    "def placeholder():\n",
    "    # Calculate TF-IDF\n",
    "            \n",
    "    tfidf_data = tf_idf(df)\n",
    "    print(tfidf_data)\n",
    "    # Find the top words and their TF-IDF scores\n",
    "    top_words = tfidf_data.select(\"words\", \"features\").rdd.flatMap(\n",
    "        lambda row: [(row.words, float(v)) for v in row.features.toArray()]\n",
    "    ).sortBy(lambda x: -x[1]).take(10)\n",
    "    print(top_words.collect())\n",
    "    # Convert top words and their TF-IDF scores to DataFrame and persist it\n",
    "    top_words_df = spark.createDataFrame(top_words, [\"word\", \"tfidf\"])\n",
    "    top_words_df.createOrReplaceTempView(\"top_words\")\n",
    "    #top_words_df.write.json(\"/data/output/top_words\", mode=\"append\")\n",
    "    print(spark.sql(\"select * from top_words\"))\n",
    "    print(\"TF-IDF table created and saved.\")\n",
    "    \n",
    "    # Sentiment Analysis using NLTK's Vader\n",
    "    sentiment_df = df.select(\"title\", \"polarity\", \"sentiment\")\n",
    "    sentiment_df.createOrReplaceTempView(\"sentiment_analysis\")\n",
    "    sentiment_df.write.json(\"/data/output/sentiment_analysis\", mode=\"append\")\n",
    "    print(\"Sentiment analysis table created and saved.\")\n",
    "    \n",
    "    sentiment_rdd = df.select(\"polarity\").rdd.map(lambda row: row.polarity)\n",
    "    average_sentiment = sentiment_rdd.mean()\n",
    "    print(f\"Average sentiment: {average_sentiment}\")\n",
    "\n",
    "def process_rdd(rdd):\n",
    "    stopwords = [\n",
    "    \"a\", \"an\", \"and\", \"are\", \"as\", \"at\", \"be\", \"but\", \"by\", \"for\", \"if\", \"in\", \"into\", \"is\", \"it\", \"no\", \"not\", \"of\",\n",
    "    \"on\", \"or\", \"such\", \"that\", \"the\", \"their\", \"then\", \"there\", \"these\", \"they\", \"this\", \"to\", \"was\", \"will\", \"with\"\n",
    "    ]\n",
    "    \"\"\"\n",
    "    Process each RDD:\n",
    "    1. Convert RDD to DataFrame and persist it.\n",
    "    2. Extract references to users, posts, and URLs.\n",
    "    3. Calculate TF-IDF.\n",
    "    4. Find the top words and their TF-IDF scores.\n",
    "    5. Perform sentiment analysis.\n",
    "    6. Store metrics in a temporary table.\n",
    "    7. Get the time range of the data.\n",
    "    \"\"\"\n",
    "    print(\"Processing RDD...\")\n",
    "    if not rdd.isEmpty():\n",
    "        # Parse each record as JSON\n",
    "        records = rdd.map(lambda record: json.loads(record)).collect()\n",
    "        \n",
    "        # Check if records are valid and not empty\n",
    "        if records:\n",
    "            # Convert RDD to DataFrame\n",
    "            df = spark.createDataFrame(records)\n",
    "            df = new_columns(df)\n",
    "          \n",
    "            # Save raw data\n",
    "            df.createOrReplaceTempView(\"raw\")\n",
    "            df.write.json(\"/data/raw/reddit_ask\", mode=\"append\")\n",
    "            \n",
    "            # Print DataFrame schema and some data\n",
    "            #df.printSchema()\n",
    "            df = df.dropDuplicates()\n",
    "            df.show( truncate=False)\n",
    "            # Top 10 words\n",
    "            print(\"Word count for window\")\n",
    "            normalize_udf = udf(lambda x: normalize_text(x))\n",
    "            words_df = df.withColumn(\"normalized_title\", normalize_udf(col(\"filtered_title\"))) \\\n",
    "             .select(explode(split(col(\"normalized_title\"), \" \")).alias(\"word\"))\n",
    "            words_filtered_df = words_df.filter(~col(\"word\").isin(stopwords))\n",
    "            word_count_df = words_filtered_df.groupBy(\"word\").count().orderBy(\"count\",ascending=False)\n",
    "            word_count_df.show(10)\n",
    "\n",
    "            \n",
    "        else:\n",
    "            print(\"No valid records found in this RDD.\")\n",
    "\n",
    "# Define the socket stream\n",
    "lines = ssc.socketTextStream(host, port)\n",
    "\n",
    "# Apply the processing function to each RDD in the DStream\n",
    "lines.foreachRDD(lambda rdd: process_rdd(rdd))\n",
    "\n",
    "# Print received lines (for debugging)\n",
    "#lines.pprint()\n",
    "\n",
    "# Start the streaming context and wait for termination\n",
    "ssc.start()\n",
    "print(\"Streaming started...\")\n",
    "ssc.awaitTermination()"
   ]
  },
  {
   "cell_type": "code",
   "execution_count": null,
   "metadata": {},
   "outputs": [],
   "source": []
  },
  {
   "cell_type": "code",
   "execution_count": null,
   "metadata": {},
   "outputs": [],
   "source": []
  }
 ],
 "metadata": {
  "kernelspec": {
   "display_name": "Python 3 (ipykernel)",
   "language": "python",
   "name": "python3"
  },
  "language_info": {
   "codemirror_mode": {
    "name": "ipython",
    "version": 3
   },
   "file_extension": ".py",
   "mimetype": "text/x-python",
   "name": "python",
   "nbconvert_exporter": "python",
   "pygments_lexer": "ipython3",
   "version": "3.11.8"
  }
 },
 "nbformat": 4,
 "nbformat_minor": 4
}

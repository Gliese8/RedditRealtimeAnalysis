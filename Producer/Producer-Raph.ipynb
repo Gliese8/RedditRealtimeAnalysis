{
 "cells": [
  {
   "cell_type": "markdown",
   "id": "bcb09ef7-7174-4680-8d6d-f50d50d90e0b",
   "metadata": {},
   "source": [
    "### Producer \n",
    "\n",
    "The producer should connect to reddit via the credentials file 'creds.sh' and recieve the defined post data from a given subreddit."
   ]
  },
  {
   "cell_type": "code",
   "execution_count": 1,
   "id": "656d9e5c-4062-4315-951e-ff780b9cf28c",
   "metadata": {},
   "outputs": [],
   "source": [
    "# pip install python-dotenv"
   ]
  },
  {
   "cell_type": "code",
   "execution_count": 2,
   "id": "50f58db8-1e0f-4177-b172-021250b2002e",
   "metadata": {},
   "outputs": [],
   "source": [
    "# pip install praw"
   ]
  },
  {
   "cell_type": "markdown",
   "id": "425c1bdb-8c3e-4a82-8dfb-1bf5d0b56ea8",
   "metadata": {},
   "source": [
    "Credentials"
   ]
  },
  {
   "cell_type": "code",
   "execution_count": 1,
   "id": "22a6a398-bd97-49a9-9b23-c6c887b46e01",
   "metadata": {},
   "outputs": [],
   "source": [
    "import os\n",
    "import dotenv\n",
    "env_file = 'creds.sh'\n",
    "dotenv.load_dotenv(env_file, override=True)\n",
    "\n",
    "CLIENT_ID = os.environ['CLIENT_ID']\n",
    "SECRET_TOKEN = os.environ['SECRET_TOKEN']\n",
    "USER_AGENT = 'MyBot/0.0.2'"
   ]
  },
  {
   "cell_type": "markdown",
   "id": "01f4cbe0-efc7-4f27-aae3-c697ec4311dc",
   "metadata": {},
   "source": [
    "Python Reddit API Wrapper"
   ]
  },
  {
   "cell_type": "code",
   "execution_count": 2,
   "id": "1b86c00e-9b7a-407e-a503-5937a0d3acb3",
   "metadata": {},
   "outputs": [],
   "source": [
    "import praw\n",
    "\n",
    "reddit = praw.Reddit(client_id=CLIENT_ID,\n",
    "                     client_secret=SECRET_TOKEN,\n",
    "                     user_agent=USER_AGENT)"
   ]
  },
  {
   "cell_type": "markdown",
   "id": "6a17a037-e29c-4b79-bff0-ff4ff28c2778",
   "metadata": {},
   "source": [
    "Socket & Producer"
   ]
  },
  {
   "cell_type": "code",
   "execution_count": 3,
   "id": "79a7ed40-976e-41dc-8075-bdbd7fa0413c",
   "metadata": {},
   "outputs": [
    {
     "name": "stdout",
     "output_type": "stream",
     "text": [
      "Here I'm waiting...\n",
      "Here I got a connection from ('127.0.0.1', 36478)\n",
      "message sent!\n",
      "{\"title\": \"Why doesn\\u2019t Australia sell their confiscated guns to other countries instead of destroying them?\", \"date\": \"2024-06-06 15:04:32\", \"author\": \"Hefiray\", \"subreddit\": \"AskReddit\"}\n",
      "Here I got a connection from ('127.0.0.1', 36494)\n",
      "message sent!\n",
      "{\"title\": \"Why doesn\\u2019t Australia sell their confiscated guns to other countries instead of destroying them?\", \"date\": \"2024-06-06 15:04:32\", \"author\": \"Hefiray\", \"subreddit\": \"AskReddit\"}\n",
      "Here I got a connection from ('127.0.0.1', 34050)\n",
      "message sent!\n",
      "{\"title\": \"Why doesn\\u2019t Australia sell their confiscated guns to other countries instead of destroying them?\", \"date\": \"2024-06-06 15:04:32\", \"author\": \"Hefiray\", \"subreddit\": \"AskReddit\"}\n",
      "Here I got a connection from ('127.0.0.1', 34058)\n",
      "message sent!\n",
      "{\"title\": \"Why doesn\\u2019t Australia sell their confiscated guns to other countries instead of destroying them?\", \"date\": \"2024-06-06 15:04:32\", \"author\": \"Hefiray\", \"subreddit\": \"AskReddit\"}\n",
      "Here I got a connection from ('127.0.0.1', 34060)\n",
      "message sent!\n",
      "{\"title\": \"Why doesn\\u2019t Australia sell their confiscated guns to other countries instead of destroying them?\", \"date\": \"2024-06-06 15:04:32\", \"author\": \"Hefiray\", \"subreddit\": \"AskReddit\"}\n",
      "Here I got a connection from ('127.0.0.1', 34072)\n",
      "message sent!\n",
      "{\"title\": \"Why doesn\\u2019t Australia sell their confiscated guns to other countries instead of destroying them?\", \"date\": \"2024-06-06 15:04:32\", \"author\": \"Hefiray\", \"subreddit\": \"AskReddit\"}\n",
      "Here I got a connection from ('127.0.0.1', 41344)\n",
      "message sent!\n",
      "{\"title\": \"Why doesn\\u2019t Australia sell their confiscated guns to other countries instead of destroying them?\", \"date\": \"2024-06-06 15:04:32\", \"author\": \"Hefiray\", \"subreddit\": \"AskReddit\"}\n",
      "Here I got a connection from ('127.0.0.1', 41350)\n",
      "message sent!\n",
      "{\"title\": \"Why doesn\\u2019t Australia sell their confiscated guns to other countries instead of destroying them?\", \"date\": \"2024-06-06 15:04:32\", \"author\": \"Hefiray\", \"subreddit\": \"AskReddit\"}\n",
      "Here I got a connection from ('127.0.0.1', 41360)\n",
      "message sent!\n",
      "{\"title\": \"What are some really spendy things you still don't mind getting even in this inflation economy and why?\", \"date\": \"2024-06-06 15:06:20\", \"author\": \"Neckropotence\", \"subreddit\": \"AskReddit\"}\n"
     ]
    },
    {
     "ename": "KeyboardInterrupt",
     "evalue": "",
     "output_type": "error",
     "traceback": [
      "\u001b[0;31m---------------------------------------------------------------------------\u001b[0m",
      "\u001b[0;31mKeyboardInterrupt\u001b[0m                         Traceback (most recent call last)",
      "Cell \u001b[0;32mIn[3], line 31\u001b[0m\n\u001b[1;32m     29\u001b[0m \u001b[38;5;66;03m# Producer\u001b[39;00m\n\u001b[1;32m     30\u001b[0m \u001b[38;5;28;01mwhile\u001b[39;00m \u001b[38;5;28;01mTrue\u001b[39;00m:\n\u001b[0;32m---> 31\u001b[0m     c, addr \u001b[38;5;241m=\u001b[39m \u001b[43ms\u001b[49m\u001b[38;5;241;43m.\u001b[39;49m\u001b[43maccept\u001b[49m\u001b[43m(\u001b[49m\u001b[43m)\u001b[49m\n\u001b[1;32m     32\u001b[0m     \u001b[38;5;28mprint\u001b[39m(\u001b[38;5;124mf\u001b[39m\u001b[38;5;124m\"\u001b[39m\u001b[38;5;124mHere I got a connection from \u001b[39m\u001b[38;5;132;01m{\u001b[39;00maddr\u001b[38;5;132;01m}\u001b[39;00m\u001b[38;5;124m\"\u001b[39m)\n\u001b[1;32m     33\u001b[0m     subreddit \u001b[38;5;241m=\u001b[39m reddit\u001b[38;5;241m.\u001b[39msubreddit(subred_name)\n",
      "File \u001b[0;32m~opt/bitnami/python/lib/python3.11/socket.py:294\u001b[0m, in \u001b[0;36msocket.accept\u001b[0;34m(self)\u001b[0m\n\u001b[1;32m    287\u001b[0m \u001b[38;5;28;01mdef\u001b[39;00m \u001b[38;5;21maccept\u001b[39m(\u001b[38;5;28mself\u001b[39m):\n\u001b[1;32m    288\u001b[0m \u001b[38;5;250m    \u001b[39m\u001b[38;5;124;03m\"\"\"accept() -> (socket object, address info)\u001b[39;00m\n\u001b[1;32m    289\u001b[0m \n\u001b[1;32m    290\u001b[0m \u001b[38;5;124;03m    Wait for an incoming connection.  Return a new socket\u001b[39;00m\n\u001b[1;32m    291\u001b[0m \u001b[38;5;124;03m    representing the connection, and the address of the client.\u001b[39;00m\n\u001b[1;32m    292\u001b[0m \u001b[38;5;124;03m    For IP sockets, the address info is a pair (hostaddr, port).\u001b[39;00m\n\u001b[1;32m    293\u001b[0m \u001b[38;5;124;03m    \"\"\"\u001b[39;00m\n\u001b[0;32m--> 294\u001b[0m     fd, addr \u001b[38;5;241m=\u001b[39m \u001b[38;5;28;43mself\u001b[39;49m\u001b[38;5;241;43m.\u001b[39;49m\u001b[43m_accept\u001b[49m\u001b[43m(\u001b[49m\u001b[43m)\u001b[49m\n\u001b[1;32m    295\u001b[0m     sock \u001b[38;5;241m=\u001b[39m socket(\u001b[38;5;28mself\u001b[39m\u001b[38;5;241m.\u001b[39mfamily, \u001b[38;5;28mself\u001b[39m\u001b[38;5;241m.\u001b[39mtype, \u001b[38;5;28mself\u001b[39m\u001b[38;5;241m.\u001b[39mproto, fileno\u001b[38;5;241m=\u001b[39mfd)\n\u001b[1;32m    296\u001b[0m     \u001b[38;5;66;03m# Issue #7995: if no default timeout is set and the listening\u001b[39;00m\n\u001b[1;32m    297\u001b[0m     \u001b[38;5;66;03m# socket had a (non-zero) timeout, force the new socket in blocking\u001b[39;00m\n\u001b[1;32m    298\u001b[0m     \u001b[38;5;66;03m# mode to override platform-specific socket flags inheritance.\u001b[39;00m\n",
      "\u001b[0;31mKeyboardInterrupt\u001b[0m: "
     ]
    }
   ],
   "source": [
    "from datetime import datetime\n",
    "import json\n",
    "import socket\n",
    "\n",
    "# Method to return each post data from a particular subreddit\n",
    "def stream_data(subreddit):\n",
    "    for submission in subreddit.stream.submissions():\n",
    "        post = {\n",
    "            'title': submission.title,\n",
    "            'date': str(datetime.utcfromtimestamp(submission.created_utc)),\n",
    "            'author': str(submission.author),\n",
    "            'subreddit': str(submission.subreddit)\n",
    "        }\n",
    "        yield post\n",
    "\n",
    "host = \"127.0.0.1\"\n",
    "port = 9998\n",
    "\n",
    "# Defined socket\n",
    "s = socket.socket()\n",
    "s.setsockopt(socket.SOL_SOCKET, socket.SO_REUSEADDR, 1)\n",
    "s.bind((host, port))\n",
    "s.listen()\n",
    "print(\"Here I'm waiting...\")\n",
    "\n",
    "# Define the subreddit\n",
    "subred_name = \"AskReddit\"\n",
    "\n",
    "# Producer\n",
    "while True:\n",
    "    c, addr = s.accept()\n",
    "    print(f\"Here I got a connection from {addr}\")\n",
    "    subreddit = reddit.subreddit(subred_name)\n",
    "    \n",
    "    for post in stream_data(subreddit):\n",
    "        data_to_send = json.dumps(post)\n",
    "        c.send(data_to_send.encode(\"utf-8\"))\n",
    "        print(\"message sent!\")\n",
    "        print(data_to_send)\n",
    "        c.close()\n",
    "        break"
   ]
  },
  {
   "cell_type": "code",
   "execution_count": null,
   "id": "6cfa9de0-ecde-4e65-ac60-294d3708d473",
   "metadata": {},
   "outputs": [],
   "source": []
  }
 ],
 "metadata": {
  "kernelspec": {
   "display_name": "Python 3 (ipykernel)",
   "language": "python",
   "name": "python3"
  },
  "language_info": {
   "codemirror_mode": {
    "name": "ipython",
    "version": 3
   },
   "file_extension": ".py",
   "mimetype": "text/x-python",
   "name": "python",
   "nbconvert_exporter": "python",
   "pygments_lexer": "ipython3",
   "version": "3.11.8"
  }
 },
 "nbformat": 4,
 "nbformat_minor": 5
}

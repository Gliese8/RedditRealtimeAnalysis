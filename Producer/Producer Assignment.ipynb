{
 "cells": [
  {
   "cell_type": "markdown",
   "id": "bcb09ef7-7174-4680-8d6d-f50d50d90e0b",
   "metadata": {},
   "source": [
    "### Producer \n",
    "\n",
    "The producer should connect to reddit via the credentials file 'creds.sh' and recieve the defined post data from a given subreddit."
   ]
  },
  {
   "cell_type": "code",
   "execution_count": 1,
   "id": "656d9e5c-4062-4315-951e-ff780b9cf28c",
   "metadata": {},
   "outputs": [
    {
     "name": "stdout",
     "output_type": "stream",
     "text": [
      "Requirement already satisfied: python-dotenv in /home/juann/anaconda3/envs/ADA/lib/python3.11/site-packages (0.21.0)\n",
      "Note: you may need to restart the kernel to use updated packages.\n"
     ]
    }
   ],
   "source": [
    "pip install python-dotenv"
   ]
  },
  {
   "cell_type": "code",
   "execution_count": 2,
   "id": "50f58db8-1e0f-4177-b172-021250b2002e",
   "metadata": {},
   "outputs": [
    {
     "name": "stdout",
     "output_type": "stream",
     "text": [
      "Requirement already satisfied: praw in /home/juann/anaconda3/envs/ADA/lib/python3.11/site-packages (7.7.1)\n",
      "Requirement already satisfied: prawcore<3,>=2.1 in /home/juann/anaconda3/envs/ADA/lib/python3.11/site-packages (from praw) (2.4.0)\n",
      "Requirement already satisfied: update-checker>=0.18 in /home/juann/anaconda3/envs/ADA/lib/python3.11/site-packages (from praw) (0.18.0)\n",
      "Requirement already satisfied: websocket-client>=0.54.0 in /home/juann/anaconda3/envs/ADA/lib/python3.11/site-packages (from praw) (0.58.0)\n",
      "Requirement already satisfied: requests<3.0,>=2.6.0 in /home/juann/anaconda3/envs/ADA/lib/python3.11/site-packages (from prawcore<3,>=2.1->praw) (2.31.0)\n",
      "Requirement already satisfied: six in /home/juann/anaconda3/envs/ADA/lib/python3.11/site-packages (from websocket-client>=0.54.0->praw) (1.16.0)\n",
      "Requirement already satisfied: charset-normalizer<4,>=2 in /home/juann/anaconda3/envs/ADA/lib/python3.11/site-packages (from requests<3.0,>=2.6.0->prawcore<3,>=2.1->praw) (2.0.4)\n",
      "Requirement already satisfied: idna<4,>=2.5 in /home/juann/anaconda3/envs/ADA/lib/python3.11/site-packages (from requests<3.0,>=2.6.0->prawcore<3,>=2.1->praw) (3.4)\n",
      "Requirement already satisfied: urllib3<3,>=1.21.1 in /home/juann/anaconda3/envs/ADA/lib/python3.11/site-packages (from requests<3.0,>=2.6.0->prawcore<3,>=2.1->praw) (2.0.7)\n",
      "Requirement already satisfied: certifi>=2017.4.17 in /home/juann/anaconda3/envs/ADA/lib/python3.11/site-packages (from requests<3.0,>=2.6.0->prawcore<3,>=2.1->praw) (2024.2.2)\n",
      "Note: you may need to restart the kernel to use updated packages.\n"
     ]
    }
   ],
   "source": [
    "pip install praw"
   ]
  },
  {
   "cell_type": "markdown",
   "id": "425c1bdb-8c3e-4a82-8dfb-1bf5d0b56ea8",
   "metadata": {},
   "source": [
    "Credentials"
   ]
  },
  {
   "cell_type": "code",
   "execution_count": 3,
   "id": "22a6a398-bd97-49a9-9b23-c6c887b46e01",
   "metadata": {},
   "outputs": [],
   "source": [
    "import os\n",
    "import dotenv\n",
    "env_file = 'creds.sh'\n",
    "dotenv.load_dotenv(env_file, override=True)\n",
    "\n",
    "CLIENT_ID = os.environ['CLIENT_ID']\n",
    "SECRET_TOKEN = os.environ['SECRET_TOKEN']\n",
    "USER_AGENT = 'MyBot/0.0.2'"
   ]
  },
  {
   "cell_type": "code",
   "execution_count": 4,
   "id": "cd0b3bf3-88f5-4788-b8a3-dbf8325f2a05",
   "metadata": {},
   "outputs": [],
   "source": [
    "host = \"127.0.0.1\"\n",
    "port = 9998"
   ]
  },
  {
   "cell_type": "markdown",
   "id": "01f4cbe0-efc7-4f27-aae3-c697ec4311dc",
   "metadata": {},
   "source": [
    "Python Reddit API Wrapper"
   ]
  },
  {
   "cell_type": "code",
   "execution_count": 5,
   "id": "1b86c00e-9b7a-407e-a503-5937a0d3acb3",
   "metadata": {},
   "outputs": [],
   "source": [
    "import praw\n",
    "\n",
    "reddit = praw.Reddit(client_id=CLIENT_ID,\n",
    "                     client_secret=SECRET_TOKEN,\n",
    "                     user_agent=USER_AGENT)"
   ]
  },
  {
   "cell_type": "markdown",
   "id": "6a17a037-e29c-4b79-bff0-ff4ff28c2778",
   "metadata": {},
   "source": [
    "Socket & Producer"
   ]
  },
  {
   "cell_type": "code",
   "execution_count": 6,
   "id": "7959c260-71dd-4b71-b4a2-5afbb57be34b",
   "metadata": {},
   "outputs": [
    {
     "name": "stdout",
     "output_type": "stream",
     "text": [
      "Listening on port: 9998\n",
      "{\"comment\": \"It's an egg that's been preserved in a mixture of clay, salt, quicklime, ash, and rice hulls. This makes the egg alkaline as fuck so nothing grows in it. Normally it takes like 7 weeks to months to make one. They're called century egg or thousand year egg but I don't think anyone has actually tried to create a literal century egg.\", \"prev_comment\": \"Tf is century egg, I mean I guess it\\u2019s a hundred year old but how does that work. Dies one not die when he consumes it? How is it prepared?\", \"post\": \"\", \"author\": \"Noe_b0dy\", \"link_url\": \"https://www.reddit.com/r/AskReddit/comments/1dd8rkq/whats_the_weirdest_thing_youve_ever_eaten_and_how/\", \"link_permalink\": \"https://www.reddit.com/r/AskReddit/comments/1dd8rkq/whats_the_weirdest_thing_youve_ever_eaten_and_how/\", \"created_utc\": 1718098109.0, \"ups\": 1, \"likes\": null}\n"
     ]
    }
   ],
   "source": [
    "import socket\n",
    "import json\n",
    "import praw\n",
    "\n",
    "subred_name = \"AskReddit+ask+AskHistorians+AskWomen+AskMen+AskCulinary+askphilosophy\"\n",
    "\n",
    "# Socket Prep\n",
    "s = socket.socket()\n",
    "s.setsockopt(socket.SOL_SOCKET, socket.SO_REUSEADDR, 1)\n",
    "s.bind((host, port))\n",
    "print(\"Listening on port: %s\" % str(port))\n",
    "s.listen() # listen(5)\n",
    "\n",
    "\n",
    "def stream_json(subreddit):\n",
    "    for comment in subreddit.stream.comments():\n",
    "        try:\n",
    "            post = comment.submission\n",
    "            parent_id = str(comment.parent())\n",
    "            prev_comment = reddit.comment(parent_id)\n",
    "\n",
    "            prev_body = prev_comment.body\n",
    "            comment_body = comment.body\n",
    "            \n",
    "            my_object = {\n",
    "                \"comment\": comment_body,\n",
    "                \"prev_comment\": prev_body,\n",
    "                \"post\": post.selftext,\n",
    "                \"author\": str(comment.author),\n",
    "                \"link_url\": comment.link_url,\n",
    "                \"link_permalink\": comment.link_permalink,\n",
    "                \"created_utc\": comment.created_utc,\n",
    "                \"ups\": comment.ups,\n",
    "                \"likes\": comment.likes,\n",
    "            }\n",
    "            json_encoded = json.dumps(my_object)\n",
    "            print(json_encoded)\n",
    "\n",
    "            # Send through socket\n",
    "            c, addr = s.accept()\n",
    "            c.send(json_encoded.encode('utf-8'))\n",
    "            c.close()\n",
    "        except praw.exceptions.PRAWException as ex:\n",
    "            pass\n",
    "\n",
    "reddit = praw.Reddit(client_id=CLIENT_ID,\n",
    "                     client_secret=SECRET_TOKEN,\n",
    "                     user_agent=USER_AGENT)\n",
    "subreddit = reddit.subreddit(subred_name)\n",
    "\n",
    "stream_json(subreddit)"
   ]
  },
  {
   "cell_type": "markdown",
   "id": "6931513b-a3d3-4188-965c-491a230c1f0d",
   "metadata": {},
   "source": [
    "Test Code"
   ]
  },
  {
   "cell_type": "code",
   "execution_count": null,
   "id": "79a7ed40-976e-41dc-8075-bdbd7fa0413c",
   "metadata": {},
   "outputs": [],
   "source": [
    "from datetime import datetime\n",
    "import json\n",
    "import socket\n",
    "\n",
    "# Method to return each post data from a particular subreddit\n",
    "def stream_data(subreddit):\n",
    "    for submission in subreddit.stream.submissions():\n",
    "        post = {\n",
    "            'title': submission.title,\n",
    "            'date': str(datetime.utcfromtimestamp(submission.created_utc)),\n",
    "            'author': str(submission.author),\n",
    "            'subreddit': str(submission.subreddit)\n",
    "        }\n",
    "        yield post\n",
    "\n",
    "host = \"127.0.0.1\"\n",
    "port = 9998\n",
    "\n",
    "# Defined socket\n",
    "s = socket.socket()\n",
    "s.setsockopt(socket.SOL_SOCKET, socket.SO_REUSEADDR, 1)\n",
    "s.bind((host, port))\n",
    "s.listen()\n",
    "print(\"Here I'm waiting...\")\n",
    "\n",
    "# Define the subreddit\n",
    "subred_name = \"AskReddit\"\n",
    "\n",
    "# Producer\n",
    "while True:\n",
    "    c, addr = s.accept()\n",
    "    print(f\"Here I got a connection from {addr}\")\n",
    "    subreddit = reddit.subreddit(subred_name)\n",
    "    \n",
    "    for post in stream_data(subreddit):\n",
    "        data_to_send = json.dumps(post)\n",
    "        c.send(data_to_send.encode(\"utf-8\"))\n",
    "        print(\"message sent!\")\n",
    "        print(data_to_send)\n",
    "        c.close()\n",
    "        break"
   ]
  },
  {
   "cell_type": "code",
   "execution_count": null,
   "id": "6cfa9de0-ecde-4e65-ac60-294d3708d473",
   "metadata": {},
   "outputs": [],
   "source": [
    "from datetime import datetime\n",
    "import json\n",
    "import socket\n",
    "import praw\n",
    "import socket\n",
    "import json\n",
    "import threading\n",
    "\n",
    "host = \"127.0.0.1\"\n",
    "port = 9998\n",
    "subred_name = \"python+generativeAI+ArtificialInteligence+ChatGPTCoding\"  \n",
    "\n",
    "\n",
    "# Setup socket\n",
    "s = socket.socket()\n",
    "s.setsockopt(socket.SOL_SOCKET, socket.SO_REUSEADDR, 1)\n",
    "s.bind((host, port))\n",
    "print(\"Listening on port:\", port)\n",
    "s.listen(1)  # Listen for incoming connections\n",
    "\n",
    "def stream_json(subreddit):\n",
    "    client, addr = s.accept()\n",
    "    print(\"Got connection from\", addr)\n",
    "    for comment in subreddit.stream.comments(skip_existing=True):\n",
    "        try:\n",
    "            post = comment.submission\n",
    "            \n",
    "            my_object = {\n",
    "                \"comment\": comment.body,\n",
    "                \"post\": post.selftext,\n",
    "                \"author\": str(comment.author),\n",
    "                \"created_utc\": comment.created_utc,\n",
    "            }\n",
    "            json_encoded = json.dumps(my_object)\n",
    "            print(json_encoded)\n",
    "\n",
    "            # Send through socket\n",
    "            client.send(json_encoded.encode('utf-8'))\n",
    "        except Exception as ex:\n",
    "            print(\"Exception:\", ex)\n",
    "            continue\n",
    "\n",
    "subreddit = reddit.subreddit(subred_name)\n",
    "threading.Thread(target=stream_json, args=(subreddit,)).start()"
   ]
  },
  {
   "cell_type": "code",
   "execution_count": null,
   "id": "f2ebfc26-8900-42a2-841a-b7b6e95de916",
   "metadata": {},
   "outputs": [],
   "source": [
    "# Setup socket\n",
    "s = socket.socket()\n",
    "s.setsockopt(socket.SOL_SOCKET, socket.SO_REUSEADDR, 1)\n",
    "s.bind((host, port))\n",
    "s.listen(1)\n",
    "print(\"Listening on port:\", port)\n",
    "\n",
    "def stream_data(subreddit):\n",
    "    for submission in subreddit.stream.submissions(skip_existing=True):\n",
    "        post = {\n",
    "            'type': 'submission',\n",
    "            'title': submission.title,\n",
    "            'text': submission.selftext,\n",
    "            'date': str(datetime.utcfromtimestamp(submission.created_utc)),\n",
    "            'author': str(submission.author),\n",
    "            'subreddit': str(submission.subreddit)\n",
    "        }\n",
    "        yield post\n",
    "\n",
    "    for comment in subreddit.stream.comments(skip_existing=True):\n",
    "        post = {\n",
    "            'type': 'comment',\n",
    "            'text': comment.body,\n",
    "            'date': str(datetime.utcfromtimestamp(comment.created_utc)),\n",
    "            'author': str(comment.author),\n",
    "            'subreddit': str(comment.subreddit)\n",
    "        }\n",
    "        yield post\n",
    "\n",
    "def handle_client(client_socket, subreddit):\n",
    "    for post in stream_data(subreddit):\n",
    "        data_to_send = json.dumps(post)\n",
    "        client_socket.send(data_to_send.encode(\"utf-8\"))\n",
    "        print(\"Message sent!\")\n",
    "        print(data_to_send)\n",
    "\n",
    "    client_socket.close()\n",
    "\n",
    "def start_server():\n",
    "    subreddit = reddit.subreddit(subred_name)\n",
    "    while True:\n",
    "        client_socket, addr = s.accept()\n",
    "        print(f\"Got connection from {addr}\")\n",
    "        client_handler = threading.Thread(target=handle_client, args=(client_socket, subreddit))\n",
    "        client_handler.start()\n",
    "\n",
    "start_server()"
   ]
  },
  {
   "cell_type": "code",
   "execution_count": null,
   "id": "e099c852-53ae-4e4a-9b75-d6ffd2212c19",
   "metadata": {},
   "outputs": [],
   "source": []
  }
 ],
 "metadata": {
  "kernelspec": {
   "display_name": "Python 3 (ipykernel)",
   "language": "python",
   "name": "python3"
  },
  "language_info": {
   "codemirror_mode": {
    "name": "ipython",
    "version": 3
   },
   "file_extension": ".py",
   "mimetype": "text/x-python",
   "name": "python",
   "nbconvert_exporter": "python",
   "pygments_lexer": "ipython3",
   "version": "3.11.5"
  }
 },
 "nbformat": 4,
 "nbformat_minor": 5
}

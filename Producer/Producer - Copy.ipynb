{
 "cells": [
  {
   "cell_type": "markdown",
   "id": "bcb09ef7-7174-4680-8d6d-f50d50d90e0b",
   "metadata": {},
   "source": [
    "### Producer \n",
    "\n",
    "The producer should connect to reddit via the credentials file 'creds.sh' and recieve the defined post data from a given subreddit."
   ]
  },
  {
   "cell_type": "code",
   "execution_count": 4,
   "id": "656d9e5c-4062-4315-951e-ff780b9cf28c",
   "metadata": {},
   "outputs": [],
   "source": [
    "#! pip install python-dotenv"
   ]
  },
  {
   "cell_type": "code",
   "execution_count": 5,
   "id": "50f58db8-1e0f-4177-b172-021250b2002e",
   "metadata": {},
   "outputs": [],
   "source": [
    "#! pip install praw"
   ]
  },
  {
   "cell_type": "markdown",
   "id": "425c1bdb-8c3e-4a82-8dfb-1bf5d0b56ea8",
   "metadata": {},
   "source": [
    "Credentials"
   ]
  },
  {
   "cell_type": "code",
   "execution_count": 1,
   "id": "22a6a398-bd97-49a9-9b23-c6c887b46e01",
   "metadata": {},
   "outputs": [],
   "source": [
    "import os\n",
    "import dotenv\n",
    "env_file = 'creds.sh'\n",
    "dotenv.load_dotenv(env_file, override=True)\n",
    "\n",
    "CLIENT_ID = os.environ['CLIENT_ID']\n",
    "SECRET_TOKEN = os.environ['SECRET_TOKEN']\n",
    "USER_AGENT = 'MyBot/0.0.2'"
   ]
  },
  {
   "cell_type": "markdown",
   "id": "01f4cbe0-efc7-4f27-aae3-c697ec4311dc",
   "metadata": {},
   "source": [
    "Python Reddit API Wrapper"
   ]
  },
  {
   "cell_type": "code",
   "execution_count": 2,
   "id": "1b86c00e-9b7a-407e-a503-5937a0d3acb3",
   "metadata": {},
   "outputs": [],
   "source": [
    "import praw\n",
    "\n",
    "reddit = praw.Reddit(client_id=CLIENT_ID,\n",
    "                     client_secret=SECRET_TOKEN,\n",
    "                     user_agent=USER_AGENT)"
   ]
  },
  {
   "cell_type": "markdown",
   "id": "6a17a037-e29c-4b79-bff0-ff4ff28c2778",
   "metadata": {},
   "source": [
    "Socket & Producer"
   ]
  },
  {
   "cell_type": "code",
   "execution_count": null,
   "id": "79a7ed40-976e-41dc-8075-bdbd7fa0413c",
   "metadata": {},
   "outputs": [
    {
     "name": "stdout",
     "output_type": "stream",
     "text": [
      "Waiting for a connection...\n",
      "Connection from ('127.0.0.1', 45160)\n",
      "Message sent!\n",
      "Message sent!\n",
      "Message sent!\n",
      "Message sent!\n",
      "Message sent!\n",
      "Message sent!\n",
      "Message sent!\n",
      "Message sent!\n",
      "Message sent!\n",
      "Message sent!\n",
      "Message sent!\n",
      "Message sent!\n",
      "Message sent!\n",
      "Message sent!\n",
      "Message sent!\n",
      "Message sent!\n",
      "Message sent!\n",
      "Message sent!\n",
      "Message sent!\n",
      "Message sent!\n",
      "Message sent!\n",
      "Message sent!\n",
      "Message sent!\n",
      "Message sent!\n"
     ]
    }
   ],
   "source": [
    "from datetime import datetime\n",
    "import json\n",
    "import socket\n",
    "import time\n",
    "\n",
    "# Method to return each post data from a particular subreddit\n",
    "def stream_data(subreddit):\n",
    "    for submission in subreddit.stream.submissions():\n",
    "        post = {\n",
    "            'title': submission.title,\n",
    "            'date': str(datetime.utcfromtimestamp(submission.created_utc)),\n",
    "            'author': str(submission.author),\n",
    "            'subreddit': str(submission.subreddit)\n",
    "        }\n",
    "        yield post\n",
    "\n",
    "host = \"127.0.0.1\"\n",
    "port = 9999\n",
    "\n",
    "# Defined socket\n",
    "s = socket.socket()\n",
    "s.setsockopt(socket.SOL_SOCKET, socket.SO_REUSEADDR, 1)\n",
    "s.bind((host, port))\n",
    "s.listen()\n",
    "print(\"Waiting for a connection...\")\n",
    "\n",
    "# Define the subreddit\n",
    "subred_name = \"AskReddit\"\n",
    "\n",
    "# Producer\n",
    "while True:\n",
    "    c, addr = s.accept()\n",
    "    print(f\"Connection from {addr}\")\n",
    "    subreddit = reddit.subreddit(subred_name)\n",
    "    \n",
    "    try:\n",
    "        for post in stream_data(subreddit):\n",
    "            data_to_send = json.dumps(post)\n",
    "            c.sendall(data_to_send.encode(\"utf-8\"))\n",
    "            print(\"Message sent!\")\n",
    "            #print(data_to_send)\n",
    "            time.sleep(1)  # Delay to prevent flooding the consumer\n",
    "    except Exception as e:\n",
    "        print(f\"Error: {e}\")\n",
    "    finally:\n",
    "        c.close()\n",
    "        print(\"Connection closed\")"
   ]
  }
 ],
 "metadata": {
  "kernelspec": {
   "display_name": "Python 3 (ipykernel)",
   "language": "python",
   "name": "python3"
  },
  "language_info": {
   "codemirror_mode": {
    "name": "ipython",
    "version": 3
   },
   "file_extension": ".py",
   "mimetype": "text/x-python",
   "name": "python",
   "nbconvert_exporter": "python",
   "pygments_lexer": "ipython3",
   "version": "3.1.undefined"
  }
 },
 "nbformat": 4,
 "nbformat_minor": 5
}
